{
 "cells": [
  {
   "cell_type": "markdown",
   "metadata": {
    "id": "DtNBZFHO3M7n"
   },
   "source": [
    "# **Waze Project**\n",
    "**Course 5 - Regression analysis: Simplify complex data relationships**"
   ]
  },
  {
   "cell_type": "markdown",
   "metadata": {
    "id": "kaOj1equPMAb"
   },
   "source": [
    "Your team is more than halfway through their user churn project. Earlier, you completed a project proposal, used Python to explore and analyze Waze’s user data, created data visualizations, and conducted a hypothesis test. Now, leadership wants your team to build a regression model to predict user churn based on a variety of variables.\n",
    "\n",
    "You check your inbox and discover a new email from Ursula Sayo, Waze's Operations Manager. Ursula asks your team about the details of the regression model. You also notice two follow-up emails from your supervisor, May Santner. The first email is a response to Ursula, and says that the team will build a binomial logistic regression model. In her second email, May asks you to help build the model and prepare an executive summary to share your results.\n",
    "\n",
    "A notebook was structured and prepared to help you in this project. Please complete the following questions and prepare an executive summary."
   ]
  },
  {
   "cell_type": "markdown",
   "metadata": {
    "id": "rgSbVJvomcVa"
   },
   "source": [
    "# **Course 5 End-of-course project: Regression modeling**\n",
    "\n",
    "In this activity, you will build a binomial logistic regression model. As you have learned, logistic regression helps you estimate the probability of an outcome. For data science professionals, this is a useful skill because it allows you to consider more than one variable against the variable you're measuring against. This opens the door for much more thorough and flexible analysis to be completed.\n",
    "<br/>\n",
    "\n",
    "**The purpose** of this project is to demostrate knowledge of exploratory data analysis (EDA) and a binomial logistic regression model.\n",
    "\n",
    "**The goal** is to build a binomial logistic regression model and evaluate the model's performance.\n",
    "<br/>\n",
    "\n",
    "*This activity has three parts:*\n",
    "\n",
    "**Part 1:** EDA & Checking Model Assumptions\n",
    "* What are some purposes of EDA before constructing a binomial logistic regression model?\n",
    "\n",
    "**Part 2:** Model Building and Evaluation\n",
    "* What resources do you find yourself using as you complete this stage?\n",
    "\n",
    "**Part 3:** Interpreting Model Results\n",
    "\n",
    "* What key insights emerged from your model(s)?\n",
    "\n",
    "* What business recommendations do you propose based on the models built?\n",
    "\n",
    "<br/>\n",
    "\n",
    "Follow the instructions and answer the question below to complete the activity. Then, you will complete an executive summary using the questions listed on the PACE Strategy Document.\n",
    "\n",
    "Be sure to complete this activity before moving on. The next course item will provide you with a completed exemplar to compare to your own work."
   ]
  },
  {
   "cell_type": "markdown",
   "metadata": {
    "id": "4L5F-G_cfLWL"
   },
   "source": [
    "# **Build a regression model**"
   ]
  },
  {
   "cell_type": "markdown",
   "metadata": {
    "id": "3UCHQclzQDUL"
   },
   "source": [
    "<img src=\"images/Pace.png\" width=\"100\" height=\"100\" align=left>\n",
    "\n",
    "# **PACE stages**\n"
   ]
  },
  {
   "cell_type": "markdown",
   "metadata": {
    "id": "3lzafIgkjrdR"
   },
   "source": [
    "Throughout these project notebooks, you'll see references to the problem-solving framework PACE. The following notebook components are labeled with the respective PACE stage: Plan, Analyze, Construct, and Execute."
   ]
  },
  {
   "cell_type": "markdown",
   "metadata": {
    "id": "F5O5cx_qQJmX"
   },
   "source": [
    "<img src=\"images/Plan.png\" width=\"100\" height=\"100\" align=left>\n",
    "\n",
    "\n",
    "## **PACE: Plan**\n",
    "Consider the questions in your PACE Strategy Document to reflect on the Plan stage."
   ]
  },
  {
   "cell_type": "markdown",
   "metadata": {
    "id": "D8qYlvkLQsf2"
   },
   "source": [
    "### **Task 1. Imports and data loading**\n",
    "Import the data and packages that you've learned are needed for building logistic regression models."
   ]
  },
  {
   "cell_type": "code",
   "execution_count": null,
   "metadata": {
    "id": "ccfeg6X6eOVZ"
   },
   "outputs": [],
   "source": [
    "# Packages for numerics + dataframes\n",
    "### YOUR CODE HERE ###\n",
    "\n",
    "# Packages for visualization\n",
    "### YOUR CODE HERE ###\n",
    "\n",
    "# Packages for Logistic Regression & Confusion Matrix\n",
    "### YOUR CODE HERE ###\n",
    "\n",
    "import pandas as pd\n",
    "import numpy as np\n",
    "import matplotlib.pyplot as plt\n",
    "import seaborn as sns\n",
    "import sklearn.metrics as metrics\n",
    "from sklearn.model_selection import train_test_split\n",
    "from sklearn.linear_model import LogisticRegression\n",
    "from sklearn.preprocessing import OneHotEncoder\n",
    "from scipy.special import logit\n",
    "from sklearn.metrics import classification_report\n"
   ]
  },
  {
   "cell_type": "markdown",
   "metadata": {
    "id": "LjljvyG32kqe"
   },
   "source": [
    "Import the dataset.\n",
    "\n",
    "**Note:** As shown in this cell, the dataset has been automatically loaded in for you. You do not need to download the .csv file, or provide more code, in order to access the dataset and proceed with this lab. Please continue with this activity by completing the following instructions."
   ]
  },
  {
   "cell_type": "code",
   "execution_count": null,
   "metadata": {
    "id": "TyR3sBUYJBO8"
   },
   "outputs": [],
   "source": [
    "# Load the dataset by running this cell\n",
    "\n",
    "df = pd.read_csv('/Users/aronrana/Documents/Google Coursera/Google Advanced Data Analytics/Course_5/waze_dataset.csv')"
   ]
  },
  {
   "cell_type": "markdown",
   "metadata": {
    "id": "OnrvCSfHUWPv"
   },
   "source": [
    "<img src=\"images/Analyze.png\" width=\"100\" height=\"100\" align=left>\n",
    "\n",
    "## **PACE: Analyze**\n",
    "\n",
    "Consider the questions in your PACE Strategy Document to reflect on the Analyze stage.\n",
    "\n",
    "In this stage, consider the following question:\n",
    "\n",
    "* What are some purposes of EDA before constructing a binomial logistic regression model?"
   ]
  },
  {
   "cell_type": "markdown",
   "metadata": {
    "id": "BgK-IOSRO4Sh"
   },
   "source": [
    "To identify which variables exist in the dataset, to compute summary statistics, to perform data cleaning, to plot the dependent variable against independent variables to determine which relationship would be best for the model."
   ]
  },
  {
   "cell_type": "markdown",
   "metadata": {
    "id": "rIcDG2e66wt9"
   },
   "source": [
    "### **Task 2a. Explore data with EDA**\n",
    "\n",
    "Analyze and discover data, looking for correlations, missing data, potential outliers, and/or duplicates.\n",
    "\n"
   ]
  },
  {
   "cell_type": "markdown",
   "metadata": {
    "id": "offDH5p62x73"
   },
   "source": [
    "Start with `.shape` and `info()`."
   ]
  },
  {
   "cell_type": "code",
   "execution_count": null,
   "metadata": {
    "id": "T4Ag-sZhWg6K"
   },
   "outputs": [],
   "source": [
    "### YOUR CODE HERE ###\n",
    "\n",
    "df.info()"
   ]
  },
  {
   "cell_type": "markdown",
   "metadata": {
    "id": "Ut0mWpGG6mkh"
   },
   "source": [
    "**Question:** Are there any missing values in your data?"
   ]
  },
  {
   "cell_type": "markdown",
   "metadata": {
    "id": "fSZgL1Eseep6"
   },
   "source": [
    "There are 700 missing values in the label column."
   ]
  },
  {
   "cell_type": "code",
   "execution_count": null,
   "metadata": {},
   "outputs": [],
   "source": [
    "df.isna().sum()"
   ]
  },
  {
   "cell_type": "markdown",
   "metadata": {
    "id": "ZCNi5-Ur2_en"
   },
   "source": [
    "Use `.head()`.\n",
    "\n"
   ]
  },
  {
   "cell_type": "code",
   "execution_count": null,
   "metadata": {
    "id": "ll2pxoClXgmx"
   },
   "outputs": [],
   "source": [
    "### YOUR CODE HERE ###\n",
    "df.head(10)"
   ]
  },
  {
   "cell_type": "markdown",
   "metadata": {
    "id": "mT1h-utWs7ow"
   },
   "source": [
    "Use `.drop()` to remove the ID column since we don't need this information for your analysis."
   ]
  },
  {
   "cell_type": "code",
   "execution_count": null,
   "metadata": {
    "id": "CZK6D8kls9cj"
   },
   "outputs": [
    {
     "ename": "NameError",
     "evalue": "name 'df' is not defined",
     "output_type": "error",
     "traceback": [
      "\u001b[0;31m---------------------------------------------------------------------------\u001b[0m",
      "\u001b[0;31mNameError\u001b[0m                                 Traceback (most recent call last)",
      "Cell \u001b[0;32mIn[2], line 3\u001b[0m\n\u001b[1;32m      1\u001b[0m \u001b[38;5;66;03m### YOUR CODE HERE ###\u001b[39;00m\n\u001b[0;32m----> 3\u001b[0m df \u001b[38;5;241m=\u001b[39m \u001b[43mdf\u001b[49m\u001b[38;5;241m.\u001b[39mdrop(column \u001b[38;5;241m=\u001b[39m [\u001b[38;5;124m'\u001b[39m\u001b[38;5;124mID\u001b[39m\u001b[38;5;124m'\u001b[39m], axis\u001b[38;5;241m=\u001b[39m\u001b[38;5;241m1\u001b[39m)\n",
      "\u001b[0;31mNameError\u001b[0m: name 'df' is not defined"
     ]
    }
   ],
   "source": [
    "### YOUR CODE HERE ###\n",
    "\n",
    "df = df.drop(columns = ['ID'], axis=1)"
   ]
  },
  {
   "cell_type": "markdown",
   "metadata": {
    "id": "eXn6VVNO7ArZ"
   },
   "source": [
    "Now, check the class balance of the dependent (target) variable, `label`."
   ]
  },
  {
   "cell_type": "code",
   "execution_count": 56,
   "metadata": {
    "id": "UCN_-mH87DwP"
   },
   "outputs": [
    {
     "data": {
      "text/plain": [
       "label\n",
       "retained    0.822645\n",
       "churned     0.177355\n",
       "Name: proportion, dtype: float64"
      ]
     },
     "execution_count": 56,
     "metadata": {},
     "output_type": "execute_result"
    }
   ],
   "source": [
    "### YOUR CODE HERE ###\n",
    "df['label'].value_counts(normalize = True)"
   ]
  },
  {
   "cell_type": "code",
   "execution_count": null,
   "metadata": {},
   "outputs": [],
   "source": [
    "df.isnull().sum()"
   ]
  },
  {
   "cell_type": "markdown",
   "metadata": {
    "id": "pcEIBLGcIbGa"
   },
   "source": [
    "Call `.describe()` on the data.\n"
   ]
  },
  {
   "cell_type": "code",
   "execution_count": null,
   "metadata": {
    "id": "AjcSoFeVIhYf"
   },
   "outputs": [],
   "source": [
    "### YOUR CODE HERE ###\n",
    "\n",
    "df.describe()"
   ]
  },
  {
   "cell_type": "markdown",
   "metadata": {
    "id": "v3EPwXZH7KnT"
   },
   "source": [
    "**Question:** Are there any variables that could potentially have outliers just by assessing at the quartile values, standard deviation, and max values?"
   ]
  },
  {
   "cell_type": "markdown",
   "metadata": {
    "id": "DjmTTz3YfgmA"
   },
   "source": [
    "The following variables potentially have outliers: sessions, drives, total_sessions, total_navigations_fav1, total_navigations_fav2, driven_km_drives and duration_minutes_drives."
   ]
  },
  {
   "cell_type": "markdown",
   "metadata": {
    "id": "hl8G_0FR6Rvk"
   },
   "source": [
    "### **Task 2b. Create features**\n",
    "\n",
    "Create features that may be of interest to the stakeholder and/or that are needed to address the business scenario/problem."
   ]
  },
  {
   "cell_type": "markdown",
   "metadata": {
    "id": "pKkx6FvS4OpI"
   },
   "source": [
    "#### **`km_per_driving_day`**\n",
    "\n",
    "You know from earlier EDA that churn rate correlates with distance driven per driving day in the last month. It might be helpful to engineer a feature that captures this information.\n",
    "\n",
    "1. Create a new column in `df` called `km_per_driving_day`, which represents the mean distance driven per driving day for each user.\n",
    "\n",
    "2. Call the `describe()` method on the new column."
   ]
  },
  {
   "cell_type": "code",
   "execution_count": 17,
   "metadata": {
    "id": "KCEzE-gwL5gq"
   },
   "outputs": [
    {
     "name": "stderr",
     "output_type": "stream",
     "text": [
      "/Library/Frameworks/Python.framework/Versions/3.13/lib/python3.13/site-packages/pandas/core/nanops.py:1016: RuntimeWarning: invalid value encountered in subtract\n",
      "  sqr = _ensure_numeric((avg - values) ** 2)\n"
     ]
    },
    {
     "data": {
      "text/plain": [
       "count    1.499900e+04\n",
       "mean              inf\n",
       "std               NaN\n",
       "min      3.022063e+00\n",
       "25%      1.672804e+02\n",
       "50%      3.231459e+02\n",
       "75%      7.579257e+02\n",
       "max               inf\n",
       "Name: km_per_driving_day, dtype: float64"
      ]
     },
     "execution_count": 17,
     "metadata": {},
     "output_type": "execute_result"
    }
   ],
   "source": [
    "# 1. Create `km_per_driving_day` column\n",
    "### YOUR CODE HERE ###\n",
    "df['km_per_driving_day'] = df['driven_km_drives']/df['driving_days']\n",
    "\n",
    "\n",
    "# 2. Call `describe()` on the new column\n",
    "### YOUR CODE HERE ###\n",
    "\n",
    "df['km_per_driving_day'].describe()"
   ]
  },
  {
   "cell_type": "markdown",
   "metadata": {
    "id": "6Ldmks6g4ZzE"
   },
   "source": [
    "Note that some values are infinite. This is the result of there being values of zero in the `driving_days` column. Pandas imputes a value of infinity in the corresponding rows of the new column because division by zero is undefined.\n",
    "\n",
    "1. Convert these values from infinity to zero. You can use `np.inf` to refer to a value of infinity.\n",
    "\n",
    "2. Call `describe()` on the `km_per_driving_day` column to verify that it worked."
   ]
  },
  {
   "cell_type": "code",
   "execution_count": null,
   "metadata": {
    "id": "FetTHatPoR6n"
   },
   "outputs": [
    {
     "data": {
      "text/plain": [
       "count    14999.000000\n",
       "mean       578.963113\n",
       "std       1030.094384\n",
       "min          0.000000\n",
       "25%        136.238895\n",
       "50%        272.889272\n",
       "75%        558.686918\n",
       "max      15420.234110\n",
       "Name: km_per_driving_day, dtype: float64"
      ]
     },
     "execution_count": 18,
     "metadata": {},
     "output_type": "execute_result"
    }
   ],
   "source": [
    "# 1. Convert infinite values to zero\n",
    "### YOUR CODE HERE ###\n",
    "\n",
    "df['km_per_driving_day'] = df['km_per_driving_day'].replace(np.inf, 0)\n",
    "\n",
    "# 2. Confirm that it worked\n",
    "### YOUR CODE HERE ###\n",
    "\n",
    "df['km_per_driving_day'].describe()"
   ]
  },
  {
   "cell_type": "markdown",
   "metadata": {
    "id": "ky5h_Aum3RK1"
   },
   "source": [
    "#### **`professional_driver`**\n",
    "\n",
    "Create a new, binary feature called `professional_driver` that is a 1 for users who had 60 or more drives <u>**and**</u> drove on 15+ days in the last month.\n",
    "\n",
    "**Note:** The objective is to create a new feature that separates professional drivers from other drivers. In this scenario, domain knowledge and intuition are used to determine these deciding thresholds, but ultimately they are arbitrary."
   ]
  },
  {
   "cell_type": "markdown",
   "metadata": {
    "id": "ml0Y6mb--HD5"
   },
   "source": [
    "To create this column, use the [`np.where()`](https://numpy.org/doc/stable/reference/generated/numpy.where.html) function. This function accepts as arguments:\n",
    "1. A condition\n",
    "2. What to return when the condition is true\n",
    "3. What to return when the condition is false\n",
    "\n",
    "```\n",
    "Example:\n",
    "x = [1, 2, 3]\n",
    "x = np.where(x > 2, 100, 0)\n",
    "x\n",
    "array([  0,   0, 100])\n",
    "```"
   ]
  },
  {
   "cell_type": "code",
   "execution_count": 19,
   "metadata": {
    "id": "huWmzNp2Xj8o"
   },
   "outputs": [],
   "source": [
    "# Create `professional_driver` column\n",
    "### YOUR CODE HERE ###\n",
    "df['professional_driver'] = np.where((df['drives'] >= 60) & (df['driving_days'] > 15), 1, 0)"
   ]
  },
  {
   "cell_type": "markdown",
   "metadata": {
    "id": "Sq1WCqLmaHSU"
   },
   "source": [
    "Perform a quick inspection of the new variable.\n",
    "\n",
    "1. Check the count of professional drivers and non-professionals\n",
    "\n",
    "2. Within each class (professional and non-professional) calculate the churn rate"
   ]
  },
  {
   "cell_type": "code",
   "execution_count": 20,
   "metadata": {
    "id": "jCAvucIVa3jE"
   },
   "outputs": [
    {
     "name": "stdout",
     "output_type": "stream",
     "text": [
      "professional_driver\n",
      "0    12616\n",
      "1     2383\n",
      "Name: count, dtype: int64\n",
      "\n",
      "\n",
      "professional_driver  label   \n",
      "0                    retained    0.80233\n",
      "                     churned     0.19767\n",
      "1                    retained    0.92951\n",
      "                     churned     0.07049\n",
      "Name: proportion, dtype: float64\n"
     ]
    }
   ],
   "source": [
    "print(df['professional_driver'].value_counts())\n",
    "print()\n",
    "print()\n",
    "print(df[['professional_driver', 'label']].groupby(by = 'professional_driver').value_counts(normalize = True))"
   ]
  },
  {
   "cell_type": "markdown",
   "metadata": {
    "id": "P7kHbF4m-ZXA"
   },
   "source": [
    "The churn rate for professional drivers is 7.6%, while the churn rate for non-professionals is 19.9%. This seems like it could add predictive signal to the model."
   ]
  },
  {
   "cell_type": "markdown",
   "metadata": {
    "id": "lgPul2DiY6T4"
   },
   "source": [
    "<img src=\"images/Construct.png\" width=\"100\" height=\"100\" align=left>\n",
    "\n",
    "## **PACE: Construct**\n",
    "\n",
    "After analysis and deriving variables with close relationships, it is time to begin constructing the model.\n",
    "\n",
    "Consider the questions in your PACE Strategy Document to reflect on the Construct stage.\n",
    "\n",
    "In this stage, consider the following question:\n",
    "\n",
    "* Why did you select the X variables you did?"
   ]
  },
  {
   "cell_type": "markdown",
   "metadata": {
    "id": "nZi2G9pkQ_kM"
   },
   "source": [
    "I chose km_per_driving_day and n_days_after_onboarding. These two variables could have an influence on the label variable. "
   ]
  },
  {
   "cell_type": "markdown",
   "metadata": {
    "id": "07UJJm41ajgf"
   },
   "source": [
    "### **Task 3a. Preparing variables**"
   ]
  },
  {
   "cell_type": "markdown",
   "metadata": {
    "id": "aanTG0VxniQh"
   },
   "source": [
    "Call `info()` on the dataframe to check the data type of the `label` variable and to verify if there are any missing values."
   ]
  },
  {
   "cell_type": "code",
   "execution_count": null,
   "metadata": {
    "id": "tHFNCNj3ob30"
   },
   "outputs": [],
   "source": [
    "### YOUR CODE HERE ###\n",
    "\n",
    "df.info()"
   ]
  },
  {
   "cell_type": "markdown",
   "metadata": {
    "id": "J90QgkTrofOC"
   },
   "source": [
    "Because you know from previous EDA that there is no evidence of a non-random cause of the 700 missing values in the `label` column, and because these observations comprise less than 5% of the data, use the `dropna()` method to drop the rows that are missing this data."
   ]
  },
  {
   "cell_type": "code",
   "execution_count": 21,
   "metadata": {
    "id": "B34fDk52o2Uk"
   },
   "outputs": [
    {
     "name": "stdout",
     "output_type": "stream",
     "text": [
      "<class 'pandas.core.frame.DataFrame'>\n",
      "Index: 14299 entries, 0 to 14998\n",
      "Data columns (total 14 columns):\n",
      " #   Column                   Non-Null Count  Dtype  \n",
      "---  ------                   --------------  -----  \n",
      " 0   label                    14299 non-null  object \n",
      " 1   sessions                 14299 non-null  int64  \n",
      " 2   drives                   14299 non-null  int64  \n",
      " 3   total_sessions           14299 non-null  float64\n",
      " 4   n_days_after_onboarding  14299 non-null  int64  \n",
      " 5   total_navigations_fav1   14299 non-null  int64  \n",
      " 6   total_navigations_fav2   14299 non-null  int64  \n",
      " 7   driven_km_drives         14299 non-null  float64\n",
      " 8   duration_minutes_drives  14299 non-null  float64\n",
      " 9   activity_days            14299 non-null  int64  \n",
      " 10  driving_days             14299 non-null  int64  \n",
      " 11  device                   14299 non-null  object \n",
      " 12  km_per_driving_day       14299 non-null  float64\n",
      " 13  professional_driver      14299 non-null  int64  \n",
      "dtypes: float64(4), int64(8), object(2)\n",
      "memory usage: 1.6+ MB\n"
     ]
    }
   ],
   "source": [
    "# Drop rows with missing data in `label` column\n",
    "### YOUR CODE HERE ###\n",
    "\n",
    "df = df.dropna(axis=0, subset = ['label'])\n",
    "\n",
    "df.info()"
   ]
  },
  {
   "cell_type": "markdown",
   "metadata": {
    "id": "UV3KLq7LpcWB"
   },
   "source": [
    "#### **Impute outliers**\n",
    "\n",
    "You rarely want to drop outliers, and generally will not do so unless there is a clear reason for it (e.g., typographic errors).\n",
    "\n",
    "At times outliers can be changed to the **median, mean, 95th percentile, etc.**\n",
    "\n",
    "Previously, you determined that seven of the variables had clear signs of containing outliers:\n",
    "\n",
    "* `sessions`\n",
    "* `drives`\n",
    "* `total_sessions`\n",
    "* `total_navigations_fav1`\n",
    "* `total_navigations_fav2`\n",
    "* `driven_km_drives`\n",
    "* `duration_minutes_drives`\n",
    "\n",
    "For this analysis, impute the outlying values for these columns. Calculate the **95th percentile** of each column and change to this value any value in the column that exceeds it.\n"
   ]
  },
  {
   "cell_type": "code",
   "execution_count": 22,
   "metadata": {
    "id": "7fRaU2JKpyXg"
   },
   "outputs": [],
   "source": [
    "# Impute outliers\n",
    "### YOUR CODE HERE ###\n",
    "\n",
    "ninetyfifth_sessions = np.percentile(df['sessions'], 95)\n",
    "df['sessions'] = df['sessions'].apply(lambda x: (ninetyfifth_sessions if x > ninetyfifth_sessions else x))\n",
    "\n",
    "ninetyfifth_drives = np.percentile(df['drives'], 95)\n",
    "df['drives'] = df['drives'].apply(lambda x: (ninetyfifth_drives if x > ninetyfifth_drives else x))\n",
    "\n",
    "ninetyfifth_total_sessions = np.percentile(df['total_sessions'], 95)\n",
    "df['total_sessions'] = df['total_sessions'].apply(lambda x: (ninetyfifth_total_sessions if x > ninetyfifth_total_sessions else x))\n",
    "\n",
    "ninetyfifth_total_navigations_fav1 = np.percentile(df['total_navigations_fav1'], 95)\n",
    "df['total_navigations_fav1'] = df['total_navigations_fav1'].apply(lambda x: (ninetyfifth_total_navigations_fav1 if x > ninetyfifth_total_navigations_fav1 else x))\n",
    "\n",
    "ninetyfifth_total_navigations_fav2 = np.percentile(df['total_navigations_fav2'], 95)\n",
    "df['total_navigations_fav2'] = df['total_navigations_fav2'].apply(lambda x: (ninetyfifth_total_navigations_fav2 if x > ninetyfifth_total_navigations_fav2 else x))\n",
    "\n",
    "ninetyfifth_driven_km_drives = np.percentile(df['driven_km_drives'], 95)\n",
    "df['driven_km_drives'] = df['driven_km_drives'].apply(lambda x: (ninetyfifth_driven_km_drives if x > ninetyfifth_driven_km_drives else x))\n",
    "\n",
    "ninetyfifth_duration_minutes_drives = np.percentile(df['duration_minutes_drives'], 95)\n",
    "df['duration_minutes_drives'] = df['duration_minutes_drives'].apply(lambda x: (ninetyfifth_duration_minutes_drives if x > ninetyfifth_duration_minutes_drives else x))\n",
    "\n"
   ]
  },
  {
   "cell_type": "markdown",
   "metadata": {
    "id": "90s91HTOAqnT"
   },
   "source": [
    "Call `describe()`."
   ]
  },
  {
   "cell_type": "code",
   "execution_count": 23,
   "metadata": {
    "id": "aU13ZoCMAN_s"
   },
   "outputs": [
    {
     "data": {
      "application/vnd.microsoft.datawrangler.viewer.v0+json": {
       "columns": [
        {
         "name": "index",
         "rawType": "object",
         "type": "string"
        },
        {
         "name": "sessions",
         "rawType": "float64",
         "type": "float"
        },
        {
         "name": "drives",
         "rawType": "float64",
         "type": "float"
        },
        {
         "name": "total_sessions",
         "rawType": "float64",
         "type": "float"
        },
        {
         "name": "n_days_after_onboarding",
         "rawType": "float64",
         "type": "float"
        },
        {
         "name": "total_navigations_fav1",
         "rawType": "float64",
         "type": "float"
        },
        {
         "name": "total_navigations_fav2",
         "rawType": "float64",
         "type": "float"
        },
        {
         "name": "driven_km_drives",
         "rawType": "float64",
         "type": "float"
        },
        {
         "name": "duration_minutes_drives",
         "rawType": "float64",
         "type": "float"
        },
        {
         "name": "activity_days",
         "rawType": "float64",
         "type": "float"
        },
        {
         "name": "driving_days",
         "rawType": "float64",
         "type": "float"
        },
        {
         "name": "km_per_driving_day",
         "rawType": "float64",
         "type": "float"
        },
        {
         "name": "professional_driver",
         "rawType": "float64",
         "type": "float"
        }
       ],
       "conversionMethod": "pd.DataFrame",
       "ref": "d37000ff-7549-49a3-960d-ca4ed06595a3",
       "rows": [
        [
         "count",
         "14299.0",
         "14299.0",
         "14299.0",
         "14299.0",
         "14299.0",
         "14299.0",
         "14299.0",
         "14299.0",
         "14299.0",
         "14299.0",
         "14299.0",
         "14299.0"
        ],
        [
         "mean",
         "76.53968809007623",
         "63.96468284495419",
         "183.71730411417738",
         "1751.8225050702847",
         "114.56276662703685",
         "27.187215889223022",
         "3944.558630697563",
         "1792.9112102060408",
         "15.544653472270788",
         "12.18253024687041",
         "581.94239920549",
         "0.1597314497517309"
        ],
        [
         "std",
         "67.24317810149665",
         "55.12792709291169",
         "118.72052023242632",
         "1008.6638338508488",
         "124.37854987429087",
         "36.71530220598344",
         "2218.3582583942716",
         "1224.32975922432",
         "9.016088256237003",
         "7.833835229688438",
         "1038.2545092149817",
         "0.366369623264486"
        ],
        [
         "min",
         "0.0",
         "0.0",
         "0.2202109438",
         "4.0",
         "0.0",
         "0.0",
         "60.44125046",
         "18.28208247",
         "0.0",
         "0.0",
         "0.0",
         "0.0"
        ],
        [
         "25%",
         "23.0",
         "20.0",
         "90.45773271",
         "878.5",
         "10.0",
         "0.0",
         "2217.3199095",
         "840.1813436",
         "8.0",
         "5.0",
         "136.1680030614035",
         "0.0"
        ],
        [
         "50%",
         "56.0",
         "48.0",
         "158.7185714",
         "1749.0",
         "71.0",
         "9.0",
         "3496.545617",
         "1479.394387",
         "16.0",
         "12.0",
         "273.30101188000003",
         "0.0"
        ],
        [
         "75%",
         "111.0",
         "93.0",
         "253.54044985000002",
         "2627.5",
         "178.0",
         "43.0",
         "5299.972162",
         "2466.928876",
         "23.0",
         "19.0",
         "558.018760868132",
         "0.0"
        ],
        [
         "max",
         "243.0",
         "200.0",
         "455.4394923899998",
         "3500.0",
         "422.0",
         "124.0",
         "8898.716274999999",
         "4668.180091799999",
         "31.0",
         "30.0",
         "15420.23411",
         "1.0"
        ]
       ],
       "shape": {
        "columns": 12,
        "rows": 8
       }
      },
      "text/html": [
       "<div>\n",
       "<style scoped>\n",
       "    .dataframe tbody tr th:only-of-type {\n",
       "        vertical-align: middle;\n",
       "    }\n",
       "\n",
       "    .dataframe tbody tr th {\n",
       "        vertical-align: top;\n",
       "    }\n",
       "\n",
       "    .dataframe thead th {\n",
       "        text-align: right;\n",
       "    }\n",
       "</style>\n",
       "<table border=\"1\" class=\"dataframe\">\n",
       "  <thead>\n",
       "    <tr style=\"text-align: right;\">\n",
       "      <th></th>\n",
       "      <th>sessions</th>\n",
       "      <th>drives</th>\n",
       "      <th>total_sessions</th>\n",
       "      <th>n_days_after_onboarding</th>\n",
       "      <th>total_navigations_fav1</th>\n",
       "      <th>total_navigations_fav2</th>\n",
       "      <th>driven_km_drives</th>\n",
       "      <th>duration_minutes_drives</th>\n",
       "      <th>activity_days</th>\n",
       "      <th>driving_days</th>\n",
       "      <th>km_per_driving_day</th>\n",
       "      <th>professional_driver</th>\n",
       "    </tr>\n",
       "  </thead>\n",
       "  <tbody>\n",
       "    <tr>\n",
       "      <th>count</th>\n",
       "      <td>14299.000000</td>\n",
       "      <td>14299.000000</td>\n",
       "      <td>14299.000000</td>\n",
       "      <td>14299.000000</td>\n",
       "      <td>14299.000000</td>\n",
       "      <td>14299.000000</td>\n",
       "      <td>14299.000000</td>\n",
       "      <td>14299.000000</td>\n",
       "      <td>14299.000000</td>\n",
       "      <td>14299.000000</td>\n",
       "      <td>14299.000000</td>\n",
       "      <td>14299.000000</td>\n",
       "    </tr>\n",
       "    <tr>\n",
       "      <th>mean</th>\n",
       "      <td>76.539688</td>\n",
       "      <td>63.964683</td>\n",
       "      <td>183.717304</td>\n",
       "      <td>1751.822505</td>\n",
       "      <td>114.562767</td>\n",
       "      <td>27.187216</td>\n",
       "      <td>3944.558631</td>\n",
       "      <td>1792.911210</td>\n",
       "      <td>15.544653</td>\n",
       "      <td>12.182530</td>\n",
       "      <td>581.942399</td>\n",
       "      <td>0.159731</td>\n",
       "    </tr>\n",
       "    <tr>\n",
       "      <th>std</th>\n",
       "      <td>67.243178</td>\n",
       "      <td>55.127927</td>\n",
       "      <td>118.720520</td>\n",
       "      <td>1008.663834</td>\n",
       "      <td>124.378550</td>\n",
       "      <td>36.715302</td>\n",
       "      <td>2218.358258</td>\n",
       "      <td>1224.329759</td>\n",
       "      <td>9.016088</td>\n",
       "      <td>7.833835</td>\n",
       "      <td>1038.254509</td>\n",
       "      <td>0.366370</td>\n",
       "    </tr>\n",
       "    <tr>\n",
       "      <th>min</th>\n",
       "      <td>0.000000</td>\n",
       "      <td>0.000000</td>\n",
       "      <td>0.220211</td>\n",
       "      <td>4.000000</td>\n",
       "      <td>0.000000</td>\n",
       "      <td>0.000000</td>\n",
       "      <td>60.441250</td>\n",
       "      <td>18.282082</td>\n",
       "      <td>0.000000</td>\n",
       "      <td>0.000000</td>\n",
       "      <td>0.000000</td>\n",
       "      <td>0.000000</td>\n",
       "    </tr>\n",
       "    <tr>\n",
       "      <th>25%</th>\n",
       "      <td>23.000000</td>\n",
       "      <td>20.000000</td>\n",
       "      <td>90.457733</td>\n",
       "      <td>878.500000</td>\n",
       "      <td>10.000000</td>\n",
       "      <td>0.000000</td>\n",
       "      <td>2217.319909</td>\n",
       "      <td>840.181344</td>\n",
       "      <td>8.000000</td>\n",
       "      <td>5.000000</td>\n",
       "      <td>136.168003</td>\n",
       "      <td>0.000000</td>\n",
       "    </tr>\n",
       "    <tr>\n",
       "      <th>50%</th>\n",
       "      <td>56.000000</td>\n",
       "      <td>48.000000</td>\n",
       "      <td>158.718571</td>\n",
       "      <td>1749.000000</td>\n",
       "      <td>71.000000</td>\n",
       "      <td>9.000000</td>\n",
       "      <td>3496.545617</td>\n",
       "      <td>1479.394387</td>\n",
       "      <td>16.000000</td>\n",
       "      <td>12.000000</td>\n",
       "      <td>273.301012</td>\n",
       "      <td>0.000000</td>\n",
       "    </tr>\n",
       "    <tr>\n",
       "      <th>75%</th>\n",
       "      <td>111.000000</td>\n",
       "      <td>93.000000</td>\n",
       "      <td>253.540450</td>\n",
       "      <td>2627.500000</td>\n",
       "      <td>178.000000</td>\n",
       "      <td>43.000000</td>\n",
       "      <td>5299.972162</td>\n",
       "      <td>2466.928876</td>\n",
       "      <td>23.000000</td>\n",
       "      <td>19.000000</td>\n",
       "      <td>558.018761</td>\n",
       "      <td>0.000000</td>\n",
       "    </tr>\n",
       "    <tr>\n",
       "      <th>max</th>\n",
       "      <td>243.000000</td>\n",
       "      <td>200.000000</td>\n",
       "      <td>455.439492</td>\n",
       "      <td>3500.000000</td>\n",
       "      <td>422.000000</td>\n",
       "      <td>124.000000</td>\n",
       "      <td>8898.716275</td>\n",
       "      <td>4668.180092</td>\n",
       "      <td>31.000000</td>\n",
       "      <td>30.000000</td>\n",
       "      <td>15420.234110</td>\n",
       "      <td>1.000000</td>\n",
       "    </tr>\n",
       "  </tbody>\n",
       "</table>\n",
       "</div>"
      ],
      "text/plain": [
       "           sessions        drives  total_sessions  n_days_after_onboarding  \\\n",
       "count  14299.000000  14299.000000    14299.000000             14299.000000   \n",
       "mean      76.539688     63.964683      183.717304              1751.822505   \n",
       "std       67.243178     55.127927      118.720520              1008.663834   \n",
       "min        0.000000      0.000000        0.220211                 4.000000   \n",
       "25%       23.000000     20.000000       90.457733               878.500000   \n",
       "50%       56.000000     48.000000      158.718571              1749.000000   \n",
       "75%      111.000000     93.000000      253.540450              2627.500000   \n",
       "max      243.000000    200.000000      455.439492              3500.000000   \n",
       "\n",
       "       total_navigations_fav1  total_navigations_fav2  driven_km_drives  \\\n",
       "count            14299.000000            14299.000000      14299.000000   \n",
       "mean               114.562767               27.187216       3944.558631   \n",
       "std                124.378550               36.715302       2218.358258   \n",
       "min                  0.000000                0.000000         60.441250   \n",
       "25%                 10.000000                0.000000       2217.319909   \n",
       "50%                 71.000000                9.000000       3496.545617   \n",
       "75%                178.000000               43.000000       5299.972162   \n",
       "max                422.000000              124.000000       8898.716275   \n",
       "\n",
       "       duration_minutes_drives  activity_days  driving_days  \\\n",
       "count             14299.000000   14299.000000  14299.000000   \n",
       "mean               1792.911210      15.544653     12.182530   \n",
       "std                1224.329759       9.016088      7.833835   \n",
       "min                  18.282082       0.000000      0.000000   \n",
       "25%                 840.181344       8.000000      5.000000   \n",
       "50%                1479.394387      16.000000     12.000000   \n",
       "75%                2466.928876      23.000000     19.000000   \n",
       "max                4668.180092      31.000000     30.000000   \n",
       "\n",
       "       km_per_driving_day  professional_driver  \n",
       "count        14299.000000         14299.000000  \n",
       "mean           581.942399             0.159731  \n",
       "std           1038.254509             0.366370  \n",
       "min              0.000000             0.000000  \n",
       "25%            136.168003             0.000000  \n",
       "50%            273.301012             0.000000  \n",
       "75%            558.018761             0.000000  \n",
       "max          15420.234110             1.000000  "
      ]
     },
     "execution_count": 23,
     "metadata": {},
     "output_type": "execute_result"
    }
   ],
   "source": [
    "### YOUR CODE HERE ###\n",
    "\n",
    "df.describe()"
   ]
  },
  {
   "cell_type": "markdown",
   "metadata": {
    "id": "E9dLJfBHAxNy"
   },
   "source": [
    "#### **Encode categorical variables**"
   ]
  },
  {
   "cell_type": "markdown",
   "metadata": {
    "id": "RksGqJI3A7L9"
   },
   "source": [
    "Change the data type of the `label` column to be binary. This change is needed to train a logistic regression model.\n",
    "\n",
    "Assign a `0` for all `retained` users.\n",
    "\n",
    "Assign a `1` for all `churned` users.\n",
    "\n",
    "Save this variable as `label2` as to not overwrite the original `label` variable.\n",
    "\n",
    "**Note:** There are many ways to do this. Consider using `np.where()` as you did earlier in this notebook."
   ]
  },
  {
   "cell_type": "code",
   "execution_count": 31,
   "metadata": {
    "id": "XvcP3FxpAyws"
   },
   "outputs": [],
   "source": [
    "# Create binary `label2` column\n",
    "### YOUR CODE HERE ###\n",
    "\n",
    "df['label2'] = np.where((df['label'] == 'churned'), 1, 0)\n"
   ]
  },
  {
   "cell_type": "markdown",
   "metadata": {
    "id": "HMj6QkK1cLmS"
   },
   "source": [
    "### **Task 3b. Determine whether assumptions have been met**\n",
    "\n",
    "The following are the assumptions for logistic regression:\n",
    "\n",
    "* Independent observations (This refers to how the data was collected.)\n",
    "\n",
    "* No extreme outliers\n",
    "\n",
    "* Little to no multicollinearity among X predictors\n",
    "\n",
    "* Linear relationship between X and the **logit** of y\n",
    "\n",
    "For the first assumption, you can assume that observations are independent for this project.\n",
    "\n",
    "The second assumption has already been addressed.\n",
    "\n",
    "The last assumption will be verified after modeling.\n",
    "\n",
    "**Note:** In practice, modeling assumptions are often violated, and depending on the specifics of your use case and the severity of the violation, it might not affect your model much at all or it will result in a failed model."
   ]
  },
  {
   "cell_type": "markdown",
   "metadata": {
    "id": "2VByuTmwdoi_"
   },
   "source": [
    "#### **Collinearity**\n",
    "\n",
    "Check the correlation among predictor variables. First, generate a correlation matrix."
   ]
  },
  {
   "cell_type": "code",
   "execution_count": 26,
   "metadata": {
    "id": "SClNm5hWotj6"
   },
   "outputs": [
    {
     "data": {
      "application/vnd.microsoft.datawrangler.viewer.v0+json": {
       "columns": [
        {
         "name": "index",
         "rawType": "object",
         "type": "string"
        },
        {
         "name": "sessions",
         "rawType": "float64",
         "type": "float"
        },
        {
         "name": "drives",
         "rawType": "float64",
         "type": "float"
        },
        {
         "name": "total_sessions",
         "rawType": "float64",
         "type": "float"
        },
        {
         "name": "n_days_after_onboarding",
         "rawType": "float64",
         "type": "float"
        },
        {
         "name": "total_navigations_fav1",
         "rawType": "float64",
         "type": "float"
        },
        {
         "name": "total_navigations_fav2",
         "rawType": "float64",
         "type": "float"
        },
        {
         "name": "driven_km_drives",
         "rawType": "float64",
         "type": "float"
        },
        {
         "name": "duration_minutes_drives",
         "rawType": "float64",
         "type": "float"
        },
        {
         "name": "activity_days",
         "rawType": "float64",
         "type": "float"
        },
        {
         "name": "driving_days",
         "rawType": "float64",
         "type": "float"
        },
        {
         "name": "km_per_driving_day",
         "rawType": "float64",
         "type": "float"
        },
        {
         "name": "professional_driver",
         "rawType": "float64",
         "type": "float"
        }
       ],
       "conversionMethod": "pd.DataFrame",
       "ref": "f83f6ed8-598b-4fc3-926a-2a6bc7bfeeab",
       "rows": [
        [
         "sessions",
         "1.0",
         "0.9969420815309832",
         "0.5971888959262648",
         "0.007100550908639715",
         "0.0018583440011190624",
         "0.008535951322289728",
         "0.002995620925268363",
         "-0.004544928146850661",
         "0.025112539613127163",
         "0.020293781509114962",
         "-0.011568604455898648",
         "0.42084340636799783"
        ],
        [
         "drives",
         "0.9969420815309832",
         "1.0",
         "0.5952847443543284",
         "0.006939867359918555",
         "0.001057984398600739",
         "0.00950543786153386",
         "0.003444555034636839",
         "-0.0038890567194442777",
         "0.024356901957602744",
         "0.019607857426505393",
         "-0.010989410675304448",
         "0.42163190081419866"
        ],
        [
         "total_sessions",
         "0.5971888959262648",
         "0.5952847443543284",
         "1.0",
         "0.006595707714563171",
         "0.00018738716228813086",
         "0.010371196069586235",
         "0.0010160725681779253",
         "-0.0003375679342181377",
         "0.01575467483013064",
         "0.012952565589624937",
         "-0.01616675026529583",
         "0.24044488561039107"
        ],
        [
         "n_days_after_onboarding",
         "0.007100550908639715",
         "0.006939867359918555",
         "0.006595707714563171",
         "1.0",
         "-0.0024496172281352883",
         "-0.004967628656834144",
         "-0.004652391745107349",
         "-0.010167179508362682",
         "-0.00941831122052827",
         "-0.007321340191999427",
         "0.011763971394234372",
         "0.003754236456629364"
        ],
        [
         "total_navigations_fav1",
         "0.0018583440011190624",
         "0.001057984398600739",
         "0.00018738716228813086",
         "-0.0024496172281352883",
         "1.0",
         "0.0028661560716245634",
         "-0.007368071908710681",
         "0.0056455246520341115",
         "0.010902417249506687",
         "0.010419486040277232",
         "-0.0001968249396943235",
         "0.004272410645814366"
        ],
        [
         "total_navigations_fav2",
         "0.008535951322289728",
         "0.00950543786153386",
         "0.010371196069586235",
         "-0.004967628656834144",
         "0.0028661560716245634",
         "1.0",
         "0.003559374747847168",
         "-0.0030088463603109767",
         "-0.004425489546778684",
         "0.0019996446024162333",
         "0.00675090046618918",
         "0.007998841760945771"
        ],
        [
         "driven_km_drives",
         "0.002995620925268363",
         "0.003444555034636839",
         "0.0010160725681779253",
         "-0.004652391745107349",
         "-0.007368071908710681",
         "0.003559374747847168",
         "1.0",
         "0.6905149029116775",
         "-0.007441102600855184",
         "-0.009549321813941178",
         "0.34481112427163757",
         "-0.0031458767875584505"
        ],
        [
         "duration_minutes_drives",
         "-0.004544928146850661",
         "-0.0038890567194442777",
         "-0.0003375679342181377",
         "-0.010167179508362682",
         "0.0056455246520341115",
         "-0.0030088463603109767",
         "0.6905149029116775",
         "1.0",
         "-0.007894627655808372",
         "-0.00942548436640388",
         "0.2396267993595847",
         "-0.012089133949871851"
        ],
        [
         "activity_days",
         "0.025112539613127163",
         "0.024356901957602744",
         "0.01575467483013064",
         "-0.00941831122052827",
         "0.010902417249506687",
         "-0.004425489546778684",
         "-0.007441102600855184",
         "-0.007894627655808372",
         "1.0",
         "0.9476874708516627",
         "-0.3974326836311353",
         "0.4531285171166032"
        ],
        [
         "driving_days",
         "0.020293781509114962",
         "0.019607857426505393",
         "0.012952565589624937",
         "-0.007321340191999427",
         "0.010419486040277232",
         "0.0019996446024162333",
         "-0.009549321813941178",
         "-0.00942548436640388",
         "0.9476874708516627",
         "1.0",
         "-0.407916864343466",
         "0.4721199736384398"
        ],
        [
         "km_per_driving_day",
         "-0.011568604455898648",
         "-0.010989410675304448",
         "-0.01616675026529583",
         "0.011763971394234372",
         "-0.0001968249396943235",
         "0.00675090046618918",
         "0.34481112427163757",
         "0.2396267993595847",
         "-0.3974326836311353",
         "-0.407916864343466",
         "1.0",
         "-0.16032578413830417"
        ],
        [
         "professional_driver",
         "0.42084340636799783",
         "0.42163190081419866",
         "0.24044488561039107",
         "0.003754236456629364",
         "0.004272410645814366",
         "0.007998841760945771",
         "-0.0031458767875584505",
         "-0.012089133949871851",
         "0.4531285171166032",
         "0.4721199736384398",
         "-0.16032578413830417",
         "1.0"
        ]
       ],
       "shape": {
        "columns": 12,
        "rows": 12
       }
      },
      "text/html": [
       "<div>\n",
       "<style scoped>\n",
       "    .dataframe tbody tr th:only-of-type {\n",
       "        vertical-align: middle;\n",
       "    }\n",
       "\n",
       "    .dataframe tbody tr th {\n",
       "        vertical-align: top;\n",
       "    }\n",
       "\n",
       "    .dataframe thead th {\n",
       "        text-align: right;\n",
       "    }\n",
       "</style>\n",
       "<table border=\"1\" class=\"dataframe\">\n",
       "  <thead>\n",
       "    <tr style=\"text-align: right;\">\n",
       "      <th></th>\n",
       "      <th>sessions</th>\n",
       "      <th>drives</th>\n",
       "      <th>total_sessions</th>\n",
       "      <th>n_days_after_onboarding</th>\n",
       "      <th>total_navigations_fav1</th>\n",
       "      <th>total_navigations_fav2</th>\n",
       "      <th>driven_km_drives</th>\n",
       "      <th>duration_minutes_drives</th>\n",
       "      <th>activity_days</th>\n",
       "      <th>driving_days</th>\n",
       "      <th>km_per_driving_day</th>\n",
       "      <th>professional_driver</th>\n",
       "    </tr>\n",
       "  </thead>\n",
       "  <tbody>\n",
       "    <tr>\n",
       "      <th>sessions</th>\n",
       "      <td>1.000000</td>\n",
       "      <td>0.996942</td>\n",
       "      <td>0.597189</td>\n",
       "      <td>0.007101</td>\n",
       "      <td>0.001858</td>\n",
       "      <td>0.008536</td>\n",
       "      <td>0.002996</td>\n",
       "      <td>-0.004545</td>\n",
       "      <td>0.025113</td>\n",
       "      <td>0.020294</td>\n",
       "      <td>-0.011569</td>\n",
       "      <td>0.420843</td>\n",
       "    </tr>\n",
       "    <tr>\n",
       "      <th>drives</th>\n",
       "      <td>0.996942</td>\n",
       "      <td>1.000000</td>\n",
       "      <td>0.595285</td>\n",
       "      <td>0.006940</td>\n",
       "      <td>0.001058</td>\n",
       "      <td>0.009505</td>\n",
       "      <td>0.003445</td>\n",
       "      <td>-0.003889</td>\n",
       "      <td>0.024357</td>\n",
       "      <td>0.019608</td>\n",
       "      <td>-0.010989</td>\n",
       "      <td>0.421632</td>\n",
       "    </tr>\n",
       "    <tr>\n",
       "      <th>total_sessions</th>\n",
       "      <td>0.597189</td>\n",
       "      <td>0.595285</td>\n",
       "      <td>1.000000</td>\n",
       "      <td>0.006596</td>\n",
       "      <td>0.000187</td>\n",
       "      <td>0.010371</td>\n",
       "      <td>0.001016</td>\n",
       "      <td>-0.000338</td>\n",
       "      <td>0.015755</td>\n",
       "      <td>0.012953</td>\n",
       "      <td>-0.016167</td>\n",
       "      <td>0.240445</td>\n",
       "    </tr>\n",
       "    <tr>\n",
       "      <th>n_days_after_onboarding</th>\n",
       "      <td>0.007101</td>\n",
       "      <td>0.006940</td>\n",
       "      <td>0.006596</td>\n",
       "      <td>1.000000</td>\n",
       "      <td>-0.002450</td>\n",
       "      <td>-0.004968</td>\n",
       "      <td>-0.004652</td>\n",
       "      <td>-0.010167</td>\n",
       "      <td>-0.009418</td>\n",
       "      <td>-0.007321</td>\n",
       "      <td>0.011764</td>\n",
       "      <td>0.003754</td>\n",
       "    </tr>\n",
       "    <tr>\n",
       "      <th>total_navigations_fav1</th>\n",
       "      <td>0.001858</td>\n",
       "      <td>0.001058</td>\n",
       "      <td>0.000187</td>\n",
       "      <td>-0.002450</td>\n",
       "      <td>1.000000</td>\n",
       "      <td>0.002866</td>\n",
       "      <td>-0.007368</td>\n",
       "      <td>0.005646</td>\n",
       "      <td>0.010902</td>\n",
       "      <td>0.010419</td>\n",
       "      <td>-0.000197</td>\n",
       "      <td>0.004272</td>\n",
       "    </tr>\n",
       "    <tr>\n",
       "      <th>total_navigations_fav2</th>\n",
       "      <td>0.008536</td>\n",
       "      <td>0.009505</td>\n",
       "      <td>0.010371</td>\n",
       "      <td>-0.004968</td>\n",
       "      <td>0.002866</td>\n",
       "      <td>1.000000</td>\n",
       "      <td>0.003559</td>\n",
       "      <td>-0.003009</td>\n",
       "      <td>-0.004425</td>\n",
       "      <td>0.002000</td>\n",
       "      <td>0.006751</td>\n",
       "      <td>0.007999</td>\n",
       "    </tr>\n",
       "    <tr>\n",
       "      <th>driven_km_drives</th>\n",
       "      <td>0.002996</td>\n",
       "      <td>0.003445</td>\n",
       "      <td>0.001016</td>\n",
       "      <td>-0.004652</td>\n",
       "      <td>-0.007368</td>\n",
       "      <td>0.003559</td>\n",
       "      <td>1.000000</td>\n",
       "      <td>0.690515</td>\n",
       "      <td>-0.007441</td>\n",
       "      <td>-0.009549</td>\n",
       "      <td>0.344811</td>\n",
       "      <td>-0.003146</td>\n",
       "    </tr>\n",
       "    <tr>\n",
       "      <th>duration_minutes_drives</th>\n",
       "      <td>-0.004545</td>\n",
       "      <td>-0.003889</td>\n",
       "      <td>-0.000338</td>\n",
       "      <td>-0.010167</td>\n",
       "      <td>0.005646</td>\n",
       "      <td>-0.003009</td>\n",
       "      <td>0.690515</td>\n",
       "      <td>1.000000</td>\n",
       "      <td>-0.007895</td>\n",
       "      <td>-0.009425</td>\n",
       "      <td>0.239627</td>\n",
       "      <td>-0.012089</td>\n",
       "    </tr>\n",
       "    <tr>\n",
       "      <th>activity_days</th>\n",
       "      <td>0.025113</td>\n",
       "      <td>0.024357</td>\n",
       "      <td>0.015755</td>\n",
       "      <td>-0.009418</td>\n",
       "      <td>0.010902</td>\n",
       "      <td>-0.004425</td>\n",
       "      <td>-0.007441</td>\n",
       "      <td>-0.007895</td>\n",
       "      <td>1.000000</td>\n",
       "      <td>0.947687</td>\n",
       "      <td>-0.397433</td>\n",
       "      <td>0.453129</td>\n",
       "    </tr>\n",
       "    <tr>\n",
       "      <th>driving_days</th>\n",
       "      <td>0.020294</td>\n",
       "      <td>0.019608</td>\n",
       "      <td>0.012953</td>\n",
       "      <td>-0.007321</td>\n",
       "      <td>0.010419</td>\n",
       "      <td>0.002000</td>\n",
       "      <td>-0.009549</td>\n",
       "      <td>-0.009425</td>\n",
       "      <td>0.947687</td>\n",
       "      <td>1.000000</td>\n",
       "      <td>-0.407917</td>\n",
       "      <td>0.472120</td>\n",
       "    </tr>\n",
       "    <tr>\n",
       "      <th>km_per_driving_day</th>\n",
       "      <td>-0.011569</td>\n",
       "      <td>-0.010989</td>\n",
       "      <td>-0.016167</td>\n",
       "      <td>0.011764</td>\n",
       "      <td>-0.000197</td>\n",
       "      <td>0.006751</td>\n",
       "      <td>0.344811</td>\n",
       "      <td>0.239627</td>\n",
       "      <td>-0.397433</td>\n",
       "      <td>-0.407917</td>\n",
       "      <td>1.000000</td>\n",
       "      <td>-0.160326</td>\n",
       "    </tr>\n",
       "    <tr>\n",
       "      <th>professional_driver</th>\n",
       "      <td>0.420843</td>\n",
       "      <td>0.421632</td>\n",
       "      <td>0.240445</td>\n",
       "      <td>0.003754</td>\n",
       "      <td>0.004272</td>\n",
       "      <td>0.007999</td>\n",
       "      <td>-0.003146</td>\n",
       "      <td>-0.012089</td>\n",
       "      <td>0.453129</td>\n",
       "      <td>0.472120</td>\n",
       "      <td>-0.160326</td>\n",
       "      <td>1.000000</td>\n",
       "    </tr>\n",
       "  </tbody>\n",
       "</table>\n",
       "</div>"
      ],
      "text/plain": [
       "                         sessions    drives  total_sessions  \\\n",
       "sessions                 1.000000  0.996942        0.597189   \n",
       "drives                   0.996942  1.000000        0.595285   \n",
       "total_sessions           0.597189  0.595285        1.000000   \n",
       "n_days_after_onboarding  0.007101  0.006940        0.006596   \n",
       "total_navigations_fav1   0.001858  0.001058        0.000187   \n",
       "total_navigations_fav2   0.008536  0.009505        0.010371   \n",
       "driven_km_drives         0.002996  0.003445        0.001016   \n",
       "duration_minutes_drives -0.004545 -0.003889       -0.000338   \n",
       "activity_days            0.025113  0.024357        0.015755   \n",
       "driving_days             0.020294  0.019608        0.012953   \n",
       "km_per_driving_day      -0.011569 -0.010989       -0.016167   \n",
       "professional_driver      0.420843  0.421632        0.240445   \n",
       "\n",
       "                         n_days_after_onboarding  total_navigations_fav1  \\\n",
       "sessions                                0.007101                0.001858   \n",
       "drives                                  0.006940                0.001058   \n",
       "total_sessions                          0.006596                0.000187   \n",
       "n_days_after_onboarding                 1.000000               -0.002450   \n",
       "total_navigations_fav1                 -0.002450                1.000000   \n",
       "total_navigations_fav2                 -0.004968                0.002866   \n",
       "driven_km_drives                       -0.004652               -0.007368   \n",
       "duration_minutes_drives                -0.010167                0.005646   \n",
       "activity_days                          -0.009418                0.010902   \n",
       "driving_days                           -0.007321                0.010419   \n",
       "km_per_driving_day                      0.011764               -0.000197   \n",
       "professional_driver                     0.003754                0.004272   \n",
       "\n",
       "                         total_navigations_fav2  driven_km_drives  \\\n",
       "sessions                               0.008536          0.002996   \n",
       "drives                                 0.009505          0.003445   \n",
       "total_sessions                         0.010371          0.001016   \n",
       "n_days_after_onboarding               -0.004968         -0.004652   \n",
       "total_navigations_fav1                 0.002866         -0.007368   \n",
       "total_navigations_fav2                 1.000000          0.003559   \n",
       "driven_km_drives                       0.003559          1.000000   \n",
       "duration_minutes_drives               -0.003009          0.690515   \n",
       "activity_days                         -0.004425         -0.007441   \n",
       "driving_days                           0.002000         -0.009549   \n",
       "km_per_driving_day                     0.006751          0.344811   \n",
       "professional_driver                    0.007999         -0.003146   \n",
       "\n",
       "                         duration_minutes_drives  activity_days  driving_days  \\\n",
       "sessions                               -0.004545       0.025113      0.020294   \n",
       "drives                                 -0.003889       0.024357      0.019608   \n",
       "total_sessions                         -0.000338       0.015755      0.012953   \n",
       "n_days_after_onboarding                -0.010167      -0.009418     -0.007321   \n",
       "total_navigations_fav1                  0.005646       0.010902      0.010419   \n",
       "total_navigations_fav2                 -0.003009      -0.004425      0.002000   \n",
       "driven_km_drives                        0.690515      -0.007441     -0.009549   \n",
       "duration_minutes_drives                 1.000000      -0.007895     -0.009425   \n",
       "activity_days                          -0.007895       1.000000      0.947687   \n",
       "driving_days                           -0.009425       0.947687      1.000000   \n",
       "km_per_driving_day                      0.239627      -0.397433     -0.407917   \n",
       "professional_driver                    -0.012089       0.453129      0.472120   \n",
       "\n",
       "                         km_per_driving_day  professional_driver  \n",
       "sessions                          -0.011569             0.420843  \n",
       "drives                            -0.010989             0.421632  \n",
       "total_sessions                    -0.016167             0.240445  \n",
       "n_days_after_onboarding            0.011764             0.003754  \n",
       "total_navigations_fav1            -0.000197             0.004272  \n",
       "total_navigations_fav2             0.006751             0.007999  \n",
       "driven_km_drives                   0.344811            -0.003146  \n",
       "duration_minutes_drives            0.239627            -0.012089  \n",
       "activity_days                     -0.397433             0.453129  \n",
       "driving_days                      -0.407917             0.472120  \n",
       "km_per_driving_day                 1.000000            -0.160326  \n",
       "professional_driver               -0.160326             1.000000  "
      ]
     },
     "execution_count": 26,
     "metadata": {},
     "output_type": "execute_result"
    }
   ],
   "source": [
    "# Generate a correlation matrix\n",
    "### YOUR CODE HERE ###\n",
    "df.drop(columns=['label', 'device']).corr(method='pearson')"
   ]
  },
  {
   "cell_type": "markdown",
   "metadata": {
    "id": "maeFcfOMfi1V"
   },
   "source": [
    "Now, plot a correlation heatmap."
   ]
  },
  {
   "cell_type": "code",
   "execution_count": 28,
   "metadata": {
    "id": "5HVnvWmXrOCO"
   },
   "outputs": [
    {
     "data": {
      "image/png": "[encoded data removed]",
      "text/plain": [
       "<Figure size 1800x1000 with 2 Axes>"
      ]
     },
     "metadata": {},
     "output_type": "display_data"
    }
   ],
   "source": [
    "# Plot correlation heatmap\n",
    "### YOUR CODE HERE ###\n",
    "# Drop the 'label' and 'device' columns for correlation matrix\n",
    "df_numeric = df.drop(columns=['label', 'device'])\n",
    "\n",
    "# Plot the heatmap\n",
    "corr_matrix = df_numeric.corr('pearson')\n",
    "\n",
    "plt.figure(figsize=(18, 10))\n",
    "sns.heatmap(corr_matrix, annot=True, cmap='BuPu', linewidths=0.5)\n",
    "plt.xticks(rotation=35, horizontalalignment='right')\n",
    "plt.show()"
   ]
  },
  {
   "cell_type": "markdown",
   "metadata": {
    "id": "5wvq6jl6BqBX"
   },
   "source": [
    "If there are predictor variables that have a Pearson correlation coefficient value greater than the **absolute value of 0.7**, these variables are strongly multicollinear. Therefore, only one of these variables should be used in your model.\n",
    "\n",
    "**Note:** 0.7 is an arbitrary threshold. Some industries may use 0.6, 0.8, etc.\n",
    "\n",
    "**Question:** Which variables are multicollinear with each other?"
   ]
  },
  {
   "cell_type": "markdown",
   "metadata": {
    "id": "EfkKRuFSgmiI"
   },
   "source": [
    "sessions and drives, activity_days and driving_days"
   ]
  },
  {
   "cell_type": "markdown",
   "metadata": {
    "id": "o3ArC_5xa7Oi"
   },
   "source": [
    "### **Task 3c. Create dummies (if necessary)**\n",
    "\n",
    "If you have selected `device` as an X variable, you will need to create dummy variables since this variable is categorical.\n",
    "\n",
    "In cases with many categorical variables, you can use pandas built-in [`pd.get_dummies()`](https://pandas.pydata.org/docs/reference/api/pandas.get_dummies.html), or you can use scikit-learn's [`OneHotEncoder()`](https://scikit-learn.org/stable/modules/generated/sklearn.preprocessing.OneHotEncoder.html) function.\n",
    "\n",
    "**Note:** Variables with many categories should only be dummied if absolutely necessary. Each category will result in a coefficient for your model which can lead to overfitting.\n",
    "\n",
    "Because this dataset only has one remaining categorical feature (`device`), it's not necessary to use one of these special functions. You can just implement the transformation directly.\n",
    "\n",
    "Create a new, binary column called `device2` that encodes user devices as follows:\n",
    "\n",
    "* `Android` -> `0`\n",
    "* `iPhone` -> `1`"
   ]
  },
  {
   "cell_type": "code",
   "execution_count": 1,
   "metadata": {
    "id": "QvDpwcQm0f35"
   },
   "outputs": [
    {
     "ename": "NameError",
     "evalue": "name 'np' is not defined",
     "output_type": "error",
     "traceback": [
      "\u001b[0;31m---------------------------------------------------------------------------\u001b[0m",
      "\u001b[0;31mNameError\u001b[0m                                 Traceback (most recent call last)",
      "Cell \u001b[0;32mIn[1], line 4\u001b[0m\n\u001b[1;32m      1\u001b[0m \u001b[38;5;66;03m### Create new `device2` variable\u001b[39;00m\n\u001b[1;32m      2\u001b[0m \u001b[38;5;66;03m### YOUR CODE HERE ###\u001b[39;00m\n\u001b[0;32m----> 4\u001b[0m df[\u001b[38;5;124m'\u001b[39m\u001b[38;5;124mdevice2\u001b[39m\u001b[38;5;124m'\u001b[39m] \u001b[38;5;241m=\u001b[39m \u001b[43mnp\u001b[49m\u001b[38;5;241m.\u001b[39mwhere((df[\u001b[38;5;124m'\u001b[39m\u001b[38;5;124mdevice\u001b[39m\u001b[38;5;124m'\u001b[39m] \u001b[38;5;241m==\u001b[39m \u001b[38;5;124m'\u001b[39m\u001b[38;5;124miPhone\u001b[39m\u001b[38;5;124m'\u001b[39m), \u001b[38;5;241m1\u001b[39m, \u001b[38;5;241m0\u001b[39m)\n",
      "\u001b[0;31mNameError\u001b[0m: name 'np' is not defined"
     ]
    }
   ],
   "source": [
    "### Create new `device2` variable\n",
    "### YOUR CODE HERE ###\n",
    "\n",
    "df['device2'] = np.where((df['device'] == 'iPhone'), 1, 0)"
   ]
  },
  {
   "cell_type": "markdown",
   "metadata": {
    "id": "iDYyjWssbnBG"
   },
   "source": [
    "### **Task 3d. Model building**"
   ]
  },
  {
   "cell_type": "markdown",
   "metadata": {
    "id": "TvmcjB19Cpw-"
   },
   "source": [
    "### **Assign predictor variables and target**\n",
    "\n",
    "To build your model you need to determine what X variables you want to include in your model to predict your target&mdash;`label2`.\n",
    "\n",
    "Drop the following variables and assign the results to `X`:\n",
    "\n",
    "* `label` (this is the target)\n",
    "* `label2` (this is the target)\n",
    "* `device` (this is the non-binary-encoded categorical variable)\n",
    "* `sessions` (this had high multicollinearity)\n",
    "* `driving_days` (this had high multicollinearity)\n",
    "\n",
    "**Note:** Notice that `sessions` and `driving_days` were selected to be dropped, rather than `drives` and `activity_days`. The reason for this is that the features that were kept for modeling had slightly stronger correlations with the target variable than the features that were dropped."
   ]
  },
  {
   "cell_type": "code",
   "execution_count": null,
   "metadata": {},
   "outputs": [],
   "source": [
    "df.info()"
   ]
  },
  {
   "cell_type": "code",
   "execution_count": 32,
   "metadata": {
    "id": "AzcDgLRET4d7"
   },
   "outputs": [],
   "source": [
    "# Isolate predictor variables\n",
    "x = df.drop(columns = ['label', 'label2', 'device', 'sessions', 'driving_days'])"
   ]
  },
  {
   "cell_type": "markdown",
   "metadata": {
    "id": "5c1Dzcz6C3WR"
   },
   "source": [
    "Now, isolate the dependent (target) variable. Assign it to a variable called `y`."
   ]
  },
  {
   "cell_type": "code",
   "execution_count": 33,
   "metadata": {
    "id": "h0QFCHIJC3-I"
   },
   "outputs": [],
   "source": [
    "# Isolate target variable\n",
    "### YOUR CODE HERE ###\n",
    "\n",
    "y = df[['label2']]"
   ]
  },
  {
   "cell_type": "markdown",
   "metadata": {
    "id": "VOewKY740Beq"
   },
   "source": [
    "#### **Split the data**\n",
    "\n",
    "Use scikit-learn's [`train_test_split()`](https://scikit-learn.org/stable/modules/generated/sklearn.model_selection.train_test_split.html) function to perform a train/test split on your data using the X and y variables you assigned above.\n",
    "\n",
    "**Note 1:** It is important to do a train test to obtain accurate predictions.  You always want to fit your model on your training set and evaluate your model on your test set to avoid data leakage.\n",
    "\n",
    "**Note 2:** Because the target class is imbalanced (82% retained vs. 18% churned), you want to make sure that you don't get an unlucky split that over- or under-represents the frequency of the minority class. Set the function's `stratify` parameter to `y` to ensure that the minority class appears in both train and test sets in the same proportion that it does in the overall dataset."
   ]
  },
  {
   "cell_type": "code",
   "execution_count": 34,
   "metadata": {
    "id": "ulDZdfSS0FyD"
   },
   "outputs": [],
   "source": [
    "# Perform the train-test split\n",
    "### YOUR CODE HERE ###\n",
    "x_train, x_test, y_train, y_test = train_test_split(x, y, test_size = 0.3, random_state = 43, stratify = y)"
   ]
  },
  {
   "cell_type": "code",
   "execution_count": null,
   "metadata": {
    "id": "Q1vdmEo3mKmO"
   },
   "outputs": [],
   "source": [
    "# Use .head()\n",
    "### YOUR CODE HERE ###\n",
    "x_train.head(10)"
   ]
  },
  {
   "cell_type": "markdown",
   "metadata": {
    "id": "ZMUo8Ri-zK7r"
   },
   "source": [
    "Use scikit-learn to instantiate a logistic regression model. Add the argument `penalty = None`.\n",
    "\n",
    "It is important to add `penalty = None` since your predictors are unscaled.\n",
    "\n",
    "Refer to scikit-learn's [logistic regression](https://scikit-learn.org/stable/modules/generated/sklearn.linear_model.LogisticRegression.html) documentation for more information.\n",
    "\n",
    "Fit the model on `X_train` and `y_train`."
   ]
  },
  {
   "cell_type": "code",
   "execution_count": 35,
   "metadata": {
    "id": "zrTNaDVZheyp"
   },
   "outputs": [
    {
     "name": "stderr",
     "output_type": "stream",
     "text": [
      "/Library/Frameworks/Python.framework/Versions/3.13/lib/python3.13/site-packages/sklearn/utils/validation.py:1408: DataConversionWarning: A column-vector y was passed when a 1d array was expected. Please change the shape of y to (n_samples, ), for example using ravel().\n",
      "  y = column_or_1d(y, warn=True)\n",
      "/Library/Frameworks/Python.framework/Versions/3.13/lib/python3.13/site-packages/sklearn/linear_model/_logistic.py:465: ConvergenceWarning: lbfgs failed to converge (status=1):\n",
      "STOP: TOTAL NO. OF ITERATIONS REACHED LIMIT.\n",
      "\n",
      "Increase the number of iterations (max_iter) or scale the data as shown in:\n",
      "    https://scikit-learn.org/stable/modules/preprocessing.html\n",
      "Please also refer to the documentation for alternative solver options:\n",
      "    https://scikit-learn.org/stable/modules/linear_model.html#logistic-regression\n",
      "  n_iter_i = _check_optimize_result(\n"
     ]
    }
   ],
   "source": [
    "### YOUR CODE HERE ###\n",
    "\n",
    "clf = LogisticRegression(penalty = None).fit(x_train, y_train)"
   ]
  },
  {
   "cell_type": "markdown",
   "metadata": {
    "id": "aPoDllWB6ULV"
   },
   "source": [
    "Call the `.coef_` attribute on the model to get the coefficients of each variable.  The coefficients are in order of how the variables are listed in the dataset.  Remember that the coefficients represent the change in the **log odds** of the target variable for **every one unit increase in X**.\n",
    "\n",
    "If you want, create a series whose index is the column names and whose values are the coefficients in `model.coef_`."
   ]
  },
  {
   "cell_type": "code",
   "execution_count": 39,
   "metadata": {
    "id": "7Ri-OHrlmd8j"
   },
   "outputs": [
    {
     "data": {
      "text/plain": [
       "drives                     0.001580\n",
       "total_sessions             0.000355\n",
       "n_days_after_onboarding   -0.000390\n",
       "total_navigations_fav1     0.001115\n",
       "total_navigations_fav2     0.000667\n",
       "driven_km_drives          -0.000025\n",
       "duration_minutes_drives    0.000121\n",
       "activity_days             -0.103705\n",
       "km_per_driving_day         0.000025\n",
       "professional_driver       -0.001380\n",
       "device2                   -0.001043\n",
       "dtype: float64"
      ]
     },
     "execution_count": 39,
     "metadata": {},
     "output_type": "execute_result"
    }
   ],
   "source": [
    "### YOUR CODE HERE ###\n",
    "\n",
    "pd.Series(clf.coef_[0], index=x.columns)"
   ]
  },
  {
   "cell_type": "markdown",
   "metadata": {
    "id": "_ENmLXXp8JDM"
   },
   "source": [
    "Call the model's `intercept_` attribute to get the intercept of the model."
   ]
  },
  {
   "cell_type": "code",
   "execution_count": 40,
   "metadata": {
    "id": "hWeruvy1wksj"
   },
   "outputs": [
    {
     "data": {
      "text/plain": [
       "array([-0.00166313])"
      ]
     },
     "execution_count": 40,
     "metadata": {},
     "output_type": "execute_result"
    }
   ],
   "source": [
    "### YOUR CODE HERE ###\n",
    "\n",
    "clf.intercept_"
   ]
  },
  {
   "cell_type": "markdown",
   "metadata": {
    "id": "tdVIjKNHmlY_"
   },
   "source": [
    "#### **Check final assumption**\n",
    "\n",
    "Verify the linear relationship between X and the estimated log odds (known as logits) by making a regplot.\n",
    "\n",
    "Call the model's `predict_proba()` method to generate the probability of response for each sample in the training data. (The training data is the argument to the method.) Assign the result to a variable called `training_probabilities`. This results in a 2-D array where each row represents a user in `X_train`. The first column is the probability of the user not churning, and the second column is the probability of the user churning."
   ]
  },
  {
   "cell_type": "code",
   "execution_count": 41,
   "metadata": {
    "id": "aY71xhehmo9i"
   },
   "outputs": [],
   "source": [
    "# Get the predicted probabilities of the training data\n",
    "### YOUR CODE HERE ###\n",
    "\n",
    "training_probabilities = clf.predict_proba(x_train)"
   ]
  },
  {
   "cell_type": "markdown",
   "metadata": {
    "id": "9AGMCvdfmpfU"
   },
   "source": [
    "In logistic regression, the relationship between a predictor variable and the dependent variable does not need to be linear, however, the log-odds (a.k.a., logit) of the dependent variable with respect to the predictor variable should be linear. Here is the formula for calculating log-odds, where _p_ is the probability of response:\n",
    "<br>\n",
    "$$\n",
    "logit(p) = ln(\\frac{p}{1-p})\n",
    "$$\n",
    "<br>\n",
    "\n",
    "1. Create a dataframe called `logit_data` that is a copy of `df`.\n",
    "\n",
    "2. Create a new column called `logit` in the `logit_data` dataframe. The data in this column should represent the logit for each user.\n"
   ]
  },
  {
   "cell_type": "code",
   "execution_count": 42,
   "metadata": {
    "id": "-tXq8gYnEw6M"
   },
   "outputs": [],
   "source": [
    "# 1. Copy the `X_train` dataframe and assign to `logit_data`\n",
    "### YOUR CODE HERE ###\n",
    "\n",
    "logit_data = x_train.copy()\n",
    "\n",
    "# 2. Create a new `logit` column in the `logit_data` df\n",
    "### YOUR CODE HERE ###\n",
    "\n",
    "logit_data['logit'] = [np.log(prob[1] / prob[0]) for prob in training_probabilities]"
   ]
  },
  {
   "cell_type": "markdown",
   "metadata": {
    "id": "J6oVbApcEx71"
   },
   "source": [
    "Plot a regplot where the x-axis represents an independent variable and the y-axis represents the log-odds of the predicted probabilities.\n",
    "\n",
    "In an exhaustive analysis, this would be plotted for each continuous or discrete predictor variable. Here we show only `driving_days`."
   ]
  },
  {
   "cell_type": "code",
   "execution_count": 45,
   "metadata": {
    "id": "5ix8VT0VEzQK"
   },
   "outputs": [
    {
     "data": {
      "text/plain": [
       "<Axes: xlabel='activity_days', ylabel='logit'>"
      ]
     },
     "execution_count": 45,
     "metadata": {},
     "output_type": "execute_result"
    },
    {
     "data": {
      "image/png": "[encoded data removed]",
      "text/plain": [
       "<Figure size 640x480 with 1 Axes>"
      ]
     },
     "metadata": {},
     "output_type": "display_data"
    }
   ],
   "source": [
    "# Plot regplot of `activity_days` log-odds\n",
    "### YOUR CODE HERE ###\n",
    "\n",
    "sns.regplot(x = 'activity_days', y = 'logit', data = logit_data, scatter_kws={'s': 2, 'alpha': 0.5})"
   ]
  },
  {
   "cell_type": "markdown",
   "metadata": {
    "id": "cp7ojoBldEYy"
   },
   "source": [
    "<img src=\"images/Execute.png\" width=\"100\" height=\"100\" align=left>\n",
    "\n",
    "## **PACE: Execute**\n",
    "\n",
    "Consider the questions in your PACE Strategy Document to reflect on the Execute stage."
   ]
  },
  {
   "cell_type": "markdown",
   "metadata": {
    "id": "F_l3bkxQdJ3a"
   },
   "source": [
    "### **Task 4a. Results and evaluation**\n",
    "\n",
    "If the logistic assumptions are met, the model results can be appropriately interpreted.\n",
    "\n",
    "Use the code block below to make predictions on the test data.\n"
   ]
  },
  {
   "cell_type": "code",
   "execution_count": 46,
   "metadata": {
    "id": "cSl5gbXfBPBN"
   },
   "outputs": [],
   "source": [
    "# Generate predictions on X_test\n",
    "### YOUR CODE HERE ###\n",
    "\n",
    "y_pred = clf.predict(x_test)"
   ]
  },
  {
   "cell_type": "markdown",
   "metadata": {
    "id": "dbN_LHUb9uhp"
   },
   "source": [
    "Now, use the `score()` method on the model with `X_test` and `y_test` as its two arguments. The default score in scikit-learn is **accuracy**.  What is the accuracy of your model?\n",
    "\n",
    "*Consider:  Is accuracy the best metric to use to evaluate this model?*"
   ]
  },
  {
   "cell_type": "code",
   "execution_count": 47,
   "metadata": {
    "id": "fU3v-XO49qm8"
   },
   "outputs": [
    {
     "data": {
      "text/plain": [
       "0.8251748251748252"
      ]
     },
     "execution_count": 47,
     "metadata": {},
     "output_type": "execute_result"
    }
   ],
   "source": [
    "# Score the model (accuracy) on the test data\n",
    "### YOUR CODE HERE ###\n",
    "\n",
    "metrics.accuracy_score(y_test, y_pred)"
   ]
  },
  {
   "cell_type": "markdown",
   "metadata": {
    "id": "mwRmSDS3eyeH"
   },
   "source": [
    "### **Task 4b. Show results with a confusion matrix**"
   ]
  },
  {
   "cell_type": "markdown",
   "metadata": {
    "id": "qUKLVt50-zFE"
   },
   "source": [
    "Use the `confusion_matrix` function to obtain a confusion matrix. Use `y_test` and `y_preds` as arguments."
   ]
  },
  {
   "cell_type": "code",
   "execution_count": null,
   "metadata": {
    "id": "IBFU_dicBjwQ"
   },
   "outputs": [],
   "source": [
    "### YOUR CODE HERE ###\n",
    "\n"
   ]
  },
  {
   "cell_type": "markdown",
   "metadata": {
    "id": "EKS_DsNcGotN"
   },
   "source": [
    "Next, use the `ConfusionMatrixDisplay()` function to display the confusion matrix from the above cell, passing the confusion matrix you just created as its argument."
   ]
  },
  {
   "cell_type": "code",
   "execution_count": 48,
   "metadata": {
    "id": "BT0hOH_ZFsnx"
   },
   "outputs": [
    {
     "data": {
      "text/plain": [
       "<sklearn.metrics._plot.confusion_matrix.ConfusionMatrixDisplay at 0x1345e8050>"
      ]
     },
     "execution_count": 48,
     "metadata": {},
     "output_type": "execute_result"
    },
    {
     "data": {
      "image/png": "[encoded data removed]",
      "text/plain": [
       "<Figure size 640x480 with 2 Axes>"
      ]
     },
     "metadata": {},
     "output_type": "display_data"
    }
   ],
   "source": [
    "### YOUR CODE HERE ###\n",
    "\n",
    "cm = metrics.confusion_matrix(y_test, y_pred, labels = clf.classes_)\n",
    "disp = metrics.ConfusionMatrixDisplay(confusion_matrix = cm, display_labels = clf.classes_)\n",
    "disp.plot()"
   ]
  },
  {
   "cell_type": "markdown",
   "metadata": {
    "id": "tkqTjhWotVCK"
   },
   "source": [
    "You can use the confusion matrix to compute precision and recall manually. You can also use scikit-learn's [`classification_report()`](https://scikit-learn.org/stable/modules/generated/sklearn.metrics.classification_report.html) function to generate a table from `y_test` and `y_preds`."
   ]
  },
  {
   "cell_type": "code",
   "execution_count": 49,
   "metadata": {
    "id": "39RM-g6UtbJ_"
   },
   "outputs": [
    {
     "data": {
      "text/plain": [
       "0.5413533834586466"
      ]
     },
     "execution_count": 49,
     "metadata": {},
     "output_type": "execute_result"
    }
   ],
   "source": [
    "# Calculate precision manually\n",
    "### YOUR CODE HERE ###\n",
    "\n",
    "precision = 72/(72+61)\n",
    "precision"
   ]
  },
  {
   "cell_type": "code",
   "execution_count": 50,
   "metadata": {
    "id": "xUy7TDpHGlOf"
   },
   "outputs": [
    {
     "data": {
      "text/plain": [
       "0.09461235216819974"
      ]
     },
     "execution_count": 50,
     "metadata": {},
     "output_type": "execute_result"
    }
   ],
   "source": [
    "# Calculate recall manually\n",
    "### YOUR CODE HERE ###\n",
    "\n",
    "recall = 72/(72+689)\n",
    "recall"
   ]
  },
  {
   "cell_type": "code",
   "execution_count": 51,
   "metadata": {
    "id": "jTxfglLMGlr_"
   },
   "outputs": [
    {
     "name": "stdout",
     "output_type": "stream",
     "text": [
      "              precision    recall  f1-score   support\n",
      "\n",
      "           0       0.83      0.98      0.90      3529\n",
      "           1       0.54      0.09      0.16       761\n",
      "\n",
      "    accuracy                           0.83      4290\n",
      "   macro avg       0.69      0.54      0.53      4290\n",
      "weighted avg       0.78      0.83      0.77      4290\n",
      "\n"
     ]
    }
   ],
   "source": [
    "# Create a classification report\n",
    "### YOUR CODE HERE ###\n",
    "\n",
    "\n",
    "report = classification_report(y_test, y_pred)\n",
    "print(report)\n"
   ]
  },
  {
   "cell_type": "markdown",
   "metadata": {
    "id": "v8FQnyhnHFT7"
   },
   "source": [
    "**Note:** The model has decent precision but very low recall, which means that it makes a lot of false negative predictions and fails to capture users who will churn."
   ]
  },
  {
   "cell_type": "markdown",
   "metadata": {
    "id": "uSpkqurtHJSE"
   },
   "source": [
    "### **BONUS**\n",
    "\n",
    "Generate a bar graph of the model's coefficients for a visual representation of the importance of the model's features."
   ]
  },
  {
   "cell_type": "code",
   "execution_count": 52,
   "metadata": {
    "id": "tuT0aP6FHL6B"
   },
   "outputs": [
    {
     "name": "stdout",
     "output_type": "stream",
     "text": [
      "[('activity_days', np.float64(-0.10370474253703033)), ('professional_driver', np.float64(-0.0013795139242323597)), ('device2', np.float64(-0.0010428840507234088)), ('n_days_after_onboarding', np.float64(-0.0003897060897906874)), ('driven_km_drives', np.float64(-2.5312862846372985e-05)), ('km_per_driving_day', np.float64(2.4887605258613154e-05)), ('duration_minutes_drives', np.float64(0.00012116328930073359)), ('total_sessions', np.float64(0.00035544262289093136)), ('total_navigations_fav2', np.float64(0.000666941722153299)), ('total_navigations_fav1', np.float64(0.0011150014866666833)), ('drives', np.float64(0.0015798110059108699))]\n"
     ]
    }
   ],
   "source": [
    "# Create a list of (column_name, coefficient) tuples\n",
    "### YOUR CODE HERE ###\n",
    "\n",
    "list_sorted = list(zip(x_train.columns, clf.coef_[0]))\n",
    "\n",
    "# Sort the list by coefficient value\n",
    "### YOUR CODE HERE ###\n",
    "\n",
    "list_sorted = sorted(list_sorted, key=lambda x: x[1])\n",
    "print(list_sorted)\n"
   ]
  },
  {
   "cell_type": "code",
   "execution_count": 54,
   "metadata": {
    "id": "kaam2OD8HOP5"
   },
   "outputs": [
    {
     "data": {
      "image/png": "[encoded data removed]",
      "text/plain": [
       "<Figure size 700x500 with 1 Axes>"
      ]
     },
     "metadata": {},
     "output_type": "display_data"
    }
   ],
   "source": [
    "# Plot the feature importances\n",
    "### YOUR CODE HERE ###\n",
    "\n",
    "labels, values = zip(*list_sorted)\n",
    "\n",
    "plt.figure(figsize = (7,5))\n",
    "plt.bar(labels, values, color = '#000080')\n",
    "plt.xlabel('Coefficients')\n",
    "plt.ylabel('Values')\n",
    "plt.xticks(rotation=35, horizontalalignment='right')\n",
    "\n",
    "highlight_labels = ['activity_days', 'professional_driver', 'device2', 'n_days_after_onboarding', 'driven_km_drives']\n",
    "ax = plt.gca()\n",
    "for label in ax.get_xticklabels():\n",
    "    if label.get_text() in highlight_labels:\n",
    "        label.set_color('green')\n",
    "        label.set_fontweight('bold')\n",
    "\n",
    "\n",
    "highlight_labels = ['km_per_driving_day', 'duration_minutes_drives', 'total_sessions', 'total_navigations_fav2', 'total_navigations_fav1', 'drives']\n",
    "ax = plt.gca()\n",
    "for label in ax.get_xticklabels():\n",
    "    if label.get_text() in highlight_labels:\n",
    "        label.set_color('red')\n",
    "        label.set_fontweight('bold')\n",
    "\n"
   ]
  },
  {
   "cell_type": "markdown",
   "metadata": {
    "id": "P6AlDDyhdzmG"
   },
   "source": [
    "### **Task 4c. Conclusion**\n",
    "\n",
    "Now that you've built your regression model, the next step is to share your findings with the Waze leadership team. Consider the following questions as you prepare to write your executive summary. Think about key points you may want to share with the team, and what information is most relevant to the user churn project.\n",
    "\n",
    "**Questions:**\n",
    "\n",
    "1. What variable most influenced the model's prediction? How? Was this surprising?\n",
    "\n",
    "2. Were there any variables that you expected to be stronger predictors than they were?\n",
    "\n",
    "3. Why might a variable you thought to be important not be important in the model?\n",
    "\n",
    "4. Would you recommend that Waze use this model? Why or why not?\n",
    "\n",
    "5. What could you do to improve this model?\n",
    "\n",
    "6. What additional features would you like to have to help improve the model?\n"
   ]
  },
  {
   "cell_type": "markdown",
   "metadata": {
    "id": "fTs79FvvT9It"
   },
   "source": [
    "1. The variable that most influenced the model's prediction was total_navigations_fav1. For every one unit increase in total_navigations_fav1, the logit of p would decrease by 0.105182264. This means that for every one unit increase in total_navigations_fav1, the probability of a user churning will decrease by 0.105182264. This was a surprise association. \n",
    "\n",
    "2. I expected the following variables to be stronger predictors: n_days_after_onboarding, km_per_driving_day and drives.\n",
    "\n",
    "3. The values of the Beta coefficients of the independent variables were very small, indicating they were not strong predictors.\n",
    "\n",
    "4. No, i would not recomment waze to use this model. The precision score was not satisfactory enough, meaning that the model was not able to sufficiently predict user churn. Also, the recall score was very low, meaning that the model had a high amount of false negatives. \n",
    "\n",
    "5. I would recommend adding more features/independent variables to the dataset to further explore user churn. The features currently present are not entirely helpful in predicting user churn. \n",
    "\n",
    "6. Potential features i would like to have include: satisfaction with waze location database (in terms of being able to find the address/location of a destination), satisfaction with navigation dictations, satisfaction with routing."
   ]
  },
  {
   "cell_type": "markdown",
   "metadata": {},
   "source": [
    "**Congratulations!** You've completed this lab. However, you may not notice a green check mark next to this item on Coursera's platform. Please continue your progress regardless of the check mark. Just click on the \"save\" icon at the top of this notebook to ensure your work has been logged. "
   ]
  }
 ],
 "metadata": {
  "colab": {
   "provenance": [
    {
     "file_id": "10VdUGxtn9_2OaVJAptrlOkngf4ZKm52V",
     "timestamp": 1671215458572
    },
    {
     "file_id": "1Et0HEKWEY0dZ0BaNZeH189bi-PnC-iUH",
     "timestamp": 1671209438879
    },
    {
     "file_id": "16ynSVRiYFz40jV9BFaXgY62vWJWEVjFA",
     "timestamp": 1671052218770
    },
    {
     "file_id": "15PPfvGb4OuUkuQoTTpKKgSeY9o9a_XrL",
     "timestamp": 1669649625868
    },
    {
     "file_id": "1_uBujapIzHItho27E-iPg9wn3aHtsjLG",
     "timestamp": 1664565386285
    }
   ],
   "toc_visible": true
  },
  "kernelspec": {
   "display_name": "Python 3",
   "language": "python",
   "name": "python3"
  },
  "language_info": {
   "codemirror_mode": {
    "name": "ipython",
    "version": 3
   },
   "file_extension": ".py",
   "mimetype": "text/x-python",
   "name": "python",
   "nbconvert_exporter": "python",
   "pygments_lexer": "ipython3",
   "version": "3.13.2"
  }
 },
 "nbformat": 4,
 "nbformat_minor": 1
}
