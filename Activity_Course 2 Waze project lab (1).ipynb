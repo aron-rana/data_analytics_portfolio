{
 "cells": [
  {
   "cell_type": "markdown",
   "metadata": {
    "id": "DtNBZFHO3M7n"
   },
   "source": [
    "# **Waze Project**\n",
    "**Course 2 - Get Started with Python**"
   ]
  },
  {
   "cell_type": "markdown",
   "metadata": {
    "id": "zJCatj3xzrQZ"
   },
   "source": [
    "Welcome to the Waze Project!\n",
    "\n",
    "Your Waze data analytics team is still in the early stages of their user churn project. Previously, you were asked to complete a project proposal by your supervisor, May Santner. You have received notice that your project proposal has been approved and that your team has been given access to Waze's user data. To get clear insights, the user data must be inspected and prepared for the upcoming process of exploratory data analysis (EDA).\n",
    "\n",
    "A Python notebook has been prepared to guide you through this project. Answer the questions and create an executive summary for the Waze data team."
   ]
  },
  {
   "cell_type": "markdown",
   "metadata": {
    "id": "rgSbVJvomcVa"
   },
   "source": [
    "# **Course 2 End-of-course project: Inspect and analyze data**\n",
    "\n",
    "In this activity, you will examine data provided and prepare it for analysis. This activity will help ensure the information is,\n",
    "\n",
    "1.   Ready to answer questions and yield insights\n",
    "\n",
    "2.   Ready for visualizations\n",
    "\n",
    "3.   Ready for future hypothesis testing and statistical methods\n",
    "<br/>\n",
    "\n",
    "**The purpose** of this project is to investigate and understand the data provided.\n",
    "\n",
    "**The goal** is to use a dataframe contructed within Python, perform a cursory inspection of the provided dataset, and inform team members of your findings.\n",
    "<br/>\n",
    "\n",
    "*This activity has three parts:*\n",
    "\n",
    "**Part 1:** Understand the situation\n",
    "* How can you best prepare to understand and organize the provided information?\n",
    "\n",
    "**Part 2:** Understand the data\n",
    "\n",
    "* Create a pandas dataframe for data learning, future exploratory data analysis (EDA), and statistical activities\n",
    "\n",
    "* Compile summary information about the data to inform next steps\n",
    "\n",
    "**Part 3:** Understand the variables\n",
    "\n",
    "* Use insights from your examination of the summary data to guide deeper investigation into variables\n",
    "\n",
    "\n",
    "<br/>\n",
    "\n",
    "Follow the instructions and answer the following questions to complete the activity. Then, you will complete an Executive Summary using the questions listed on the PACE Strategy Document.\n",
    "\n",
    "Be sure to complete this activity before moving on. The next course item will provide you with a completed exemplar to compare to your own work.\n",
    "\n"
   ]
  },
  {
   "cell_type": "markdown",
   "metadata": {
    "id": "HjFGokxv2pc5"
   },
   "source": [
    "# **Identify data types and compile summary information**\n"
   ]
  },
  {
   "cell_type": "markdown",
   "metadata": {
    "id": "MRUYfzCb4vop"
   },
   "source": [
    "<img src=\"images/Pace.png\" width=\"100\" height=\"100\" align=left>\n",
    "\n",
    "# **PACE stages**"
   ]
  },
  {
   "cell_type": "markdown",
   "metadata": {
    "id": "b4B47DQPcSQu"
   },
   "source": [
    "Throughout these project notebooks, you'll see references to the problem-solving framework, PACE. The following notebook components are labeled with the respective PACE stages: Plan, Analyze, Construct, and Execute."
   ]
  },
  {
   "cell_type": "markdown",
   "metadata": {
    "id": "zRHb2QQWj99m"
   },
   "source": [
    "<img src=\"images/Plan.png\" width=\"100\" height=\"100\" align=left>\n",
    "\n",
    "\n",
    "## **PACE: Plan**\n",
    "\n",
    "Consider the questions in your PACE Strategy Document and those below to craft your response:"
   ]
  },
  {
   "cell_type": "markdown",
   "metadata": {
    "id": "pWEfG5zJV5oG"
   },
   "source": [
    "### **Task 1. Understand the situation**\n",
    "\n",
    "*   How can you best prepare to understand and organize the provided driver data?\n",
    "\n",
    "\n",
    "*Begin by exploring your dataset and consider reviewing the Data Dictionary.*"
   ]
  },
  {
   "cell_type": "markdown",
   "metadata": {
    "id": "irvqnKSe6Z80"
   },
   "source": [
    "Always have the project task in mind. Start by looking at the file name(s) to roughly determine what kind of information might be contained in it. Then, open each file and browse through all titles, column names and row names to get further overview of the dataset. In all of this, ask yourself if the data is relevant to solving the project task."
   ]
  },
  {
   "cell_type": "markdown",
   "metadata": {
    "id": "1E9Y5aC0IAA-"
   },
   "source": [
    "<img src=\"images/Analyze.png\" width=\"100\" height=\"100\" align=left>\n",
    "\n",
    "## **PACE: Analyze**\n",
    "\n",
    "Consider the questions in your PACE Strategy Document to reflect on the Analyze stage."
   ]
  },
  {
   "cell_type": "markdown",
   "metadata": {
    "id": "D4WK_AxP_S__"
   },
   "source": [
    "### **Task 2a. Imports and data loading**\n",
    "\n",
    "Start by importing the packages that you will need to load and explore the dataset. Make sure to use the following import statements:\n",
    "\n",
    "*   `import pandas as pd`\n",
    "\n",
    "*   `import numpy as np`\n"
   ]
  },
  {
   "cell_type": "code",
   "execution_count": 1,
   "metadata": {
    "id": "OZSXM4q5zrQh"
   },
   "outputs": [],
   "source": [
    "# Import packages for data manipulation\n",
    "\n",
    "import numpy as np\n",
    "import pandas as pd\n"
   ]
  },
  {
   "cell_type": "markdown",
   "metadata": {
    "id": "2-hT-EQA67v3"
   },
   "source": [
    "Then, load the dataset into a dataframe. Creating a dataframe will help you conduct data manipulation, exploratory data analysis (EDA), and statistical activities.\n",
    "\n",
    "**Note:** As shown in this cell, the dataset has been automatically loaded in for you. You do not need to download the .csv file, or provide more code, in order to access the dataset and proceed with this lab. Please continue with this activity by completing the following instructions."
   ]
  },
  {
   "cell_type": "code",
   "execution_count": 2,
   "metadata": {},
   "outputs": [],
   "source": [
    "# Load dataset into dataframe\n",
    "df = pd.read_csv('/Users/aronrana/Documents/Google Coursera/Google Advanced Data Analytics/Course_2/waze_dataset.csv')"
   ]
  },
  {
   "cell_type": "markdown",
   "metadata": {
    "id": "gYx1emvno7U_"
   },
   "source": [
    "### **Task 2b. Summary information**\n",
    "\n",
    "View and inspect summary information about the dataframe by **coding the following:**\n",
    "\n",
    "1.   df.head(10)\n",
    "2.   df.info()\n",
    "\n",
    "*Consider the following questions:*\n",
    "\n",
    "1. When reviewing the `df.head()` output, are there any variables that have missing values?\n",
    "\n",
    "2. When reviewing the `df.info()` output, what are the data types? How many rows and columns do you have?\n",
    "\n",
    "3. Does the dataset have any missing values?"
   ]
  },
  {
   "cell_type": "code",
   "execution_count": 3,
   "metadata": {
    "id": "t7Nck2hh4R6J"
   },
   "outputs": [
    {
     "data": {
      "application/vnd.microsoft.datawrangler.viewer.v0+json": {
       "columns": [
        {
         "name": "index",
         "rawType": "int64",
         "type": "integer"
        },
        {
         "name": "ID",
         "rawType": "int64",
         "type": "integer"
        },
        {
         "name": "label",
         "rawType": "object",
         "type": "string"
        },
        {
         "name": "sessions",
         "rawType": "int64",
         "type": "integer"
        },
        {
         "name": "drives",
         "rawType": "int64",
         "type": "integer"
        },
        {
         "name": "total_sessions",
         "rawType": "float64",
         "type": "float"
        },
        {
         "name": "n_days_after_onboarding",
         "rawType": "int64",
         "type": "integer"
        },
        {
         "name": "total_navigations_fav1",
         "rawType": "int64",
         "type": "integer"
        },
        {
         "name": "total_navigations_fav2",
         "rawType": "int64",
         "type": "integer"
        },
        {
         "name": "driven_km_drives",
         "rawType": "float64",
         "type": "float"
        },
        {
         "name": "duration_minutes_drives",
         "rawType": "float64",
         "type": "float"
        },
        {
         "name": "activity_days",
         "rawType": "int64",
         "type": "integer"
        },
        {
         "name": "driving_days",
         "rawType": "int64",
         "type": "integer"
        },
        {
         "name": "device",
         "rawType": "object",
         "type": "string"
        }
       ],
       "conversionMethod": "pd.DataFrame",
       "ref": "3db9837b-e822-4fa8-beb9-b750a593b17c",
       "rows": [
        [
         "0",
         "0",
         "retained",
         "283",
         "226",
         "296.7482729",
         "2276",
         "208",
         "0",
         "2628.845068",
         "1985.775061",
         "28",
         "19",
         "Android"
        ],
        [
         "1",
         "1",
         "retained",
         "133",
         "107",
         "326.8965962",
         "1225",
         "19",
         "64",
         "13715.92055",
         "3160.472914",
         "13",
         "11",
         "iPhone"
        ],
        [
         "2",
         "2",
         "retained",
         "114",
         "95",
         "135.5229263",
         "2651",
         "0",
         "0",
         "3059.148818",
         "1610.735904",
         "14",
         "8",
         "Android"
        ],
        [
         "3",
         "3",
         "retained",
         "49",
         "40",
         "67.58922127",
         "15",
         "322",
         "7",
         "913.5911231",
         "587.1965423",
         "7",
         "3",
         "iPhone"
        ],
        [
         "4",
         "4",
         "retained",
         "84",
         "68",
         "168.2470201",
         "1562",
         "166",
         "5",
         "3950.202008",
         "1219.555924",
         "27",
         "18",
         "Android"
        ],
        [
         "5",
         "5",
         "retained",
         "113",
         "103",
         "279.5444373",
         "2637",
         "0",
         "0",
         "901.2386985",
         "439.1013973",
         "15",
         "11",
         "iPhone"
        ],
        [
         "6",
         "6",
         "retained",
         "3",
         "2",
         "236.7253142",
         "360",
         "185",
         "18",
         "5249.172828",
         "726.5772047",
         "28",
         "23",
         "iPhone"
        ],
        [
         "7",
         "7",
         "retained",
         "39",
         "35",
         "176.0728446",
         "2999",
         "0",
         "0",
         "7892.052468",
         "2466.981741",
         "22",
         "20",
         "iPhone"
        ],
        [
         "8",
         "8",
         "retained",
         "57",
         "46",
         "183.5320177",
         "424",
         "0",
         "26",
         "2651.709764",
         "1594.342984",
         "25",
         "20",
         "Android"
        ],
        [
         "9",
         "9",
         "churned",
         "84",
         "68",
         "244.8021148",
         "2997",
         "72",
         "0",
         "6043.460295",
         "2341.838528",
         "7",
         "3",
         "iPhone"
        ]
       ],
       "shape": {
        "columns": 13,
        "rows": 10
       }
      },
      "text/html": [
       "<div>\n",
       "<style scoped>\n",
       "    .dataframe tbody tr th:only-of-type {\n",
       "        vertical-align: middle;\n",
       "    }\n",
       "\n",
       "    .dataframe tbody tr th {\n",
       "        vertical-align: top;\n",
       "    }\n",
       "\n",
       "    .dataframe thead th {\n",
       "        text-align: right;\n",
       "    }\n",
       "</style>\n",
       "<table border=\"1\" class=\"dataframe\">\n",
       "  <thead>\n",
       "    <tr style=\"text-align: right;\">\n",
       "      <th></th>\n",
       "      <th>ID</th>\n",
       "      <th>label</th>\n",
       "      <th>sessions</th>\n",
       "      <th>drives</th>\n",
       "      <th>total_sessions</th>\n",
       "      <th>n_days_after_onboarding</th>\n",
       "      <th>total_navigations_fav1</th>\n",
       "      <th>total_navigations_fav2</th>\n",
       "      <th>driven_km_drives</th>\n",
       "      <th>duration_minutes_drives</th>\n",
       "      <th>activity_days</th>\n",
       "      <th>driving_days</th>\n",
       "      <th>device</th>\n",
       "    </tr>\n",
       "  </thead>\n",
       "  <tbody>\n",
       "    <tr>\n",
       "      <th>0</th>\n",
       "      <td>0</td>\n",
       "      <td>retained</td>\n",
       "      <td>283</td>\n",
       "      <td>226</td>\n",
       "      <td>296.748273</td>\n",
       "      <td>2276</td>\n",
       "      <td>208</td>\n",
       "      <td>0</td>\n",
       "      <td>2628.845068</td>\n",
       "      <td>1985.775061</td>\n",
       "      <td>28</td>\n",
       "      <td>19</td>\n",
       "      <td>Android</td>\n",
       "    </tr>\n",
       "    <tr>\n",
       "      <th>1</th>\n",
       "      <td>1</td>\n",
       "      <td>retained</td>\n",
       "      <td>133</td>\n",
       "      <td>107</td>\n",
       "      <td>326.896596</td>\n",
       "      <td>1225</td>\n",
       "      <td>19</td>\n",
       "      <td>64</td>\n",
       "      <td>13715.920550</td>\n",
       "      <td>3160.472914</td>\n",
       "      <td>13</td>\n",
       "      <td>11</td>\n",
       "      <td>iPhone</td>\n",
       "    </tr>\n",
       "    <tr>\n",
       "      <th>2</th>\n",
       "      <td>2</td>\n",
       "      <td>retained</td>\n",
       "      <td>114</td>\n",
       "      <td>95</td>\n",
       "      <td>135.522926</td>\n",
       "      <td>2651</td>\n",
       "      <td>0</td>\n",
       "      <td>0</td>\n",
       "      <td>3059.148818</td>\n",
       "      <td>1610.735904</td>\n",
       "      <td>14</td>\n",
       "      <td>8</td>\n",
       "      <td>Android</td>\n",
       "    </tr>\n",
       "    <tr>\n",
       "      <th>3</th>\n",
       "      <td>3</td>\n",
       "      <td>retained</td>\n",
       "      <td>49</td>\n",
       "      <td>40</td>\n",
       "      <td>67.589221</td>\n",
       "      <td>15</td>\n",
       "      <td>322</td>\n",
       "      <td>7</td>\n",
       "      <td>913.591123</td>\n",
       "      <td>587.196542</td>\n",
       "      <td>7</td>\n",
       "      <td>3</td>\n",
       "      <td>iPhone</td>\n",
       "    </tr>\n",
       "    <tr>\n",
       "      <th>4</th>\n",
       "      <td>4</td>\n",
       "      <td>retained</td>\n",
       "      <td>84</td>\n",
       "      <td>68</td>\n",
       "      <td>168.247020</td>\n",
       "      <td>1562</td>\n",
       "      <td>166</td>\n",
       "      <td>5</td>\n",
       "      <td>3950.202008</td>\n",
       "      <td>1219.555924</td>\n",
       "      <td>27</td>\n",
       "      <td>18</td>\n",
       "      <td>Android</td>\n",
       "    </tr>\n",
       "    <tr>\n",
       "      <th>5</th>\n",
       "      <td>5</td>\n",
       "      <td>retained</td>\n",
       "      <td>113</td>\n",
       "      <td>103</td>\n",
       "      <td>279.544437</td>\n",
       "      <td>2637</td>\n",
       "      <td>0</td>\n",
       "      <td>0</td>\n",
       "      <td>901.238699</td>\n",
       "      <td>439.101397</td>\n",
       "      <td>15</td>\n",
       "      <td>11</td>\n",
       "      <td>iPhone</td>\n",
       "    </tr>\n",
       "    <tr>\n",
       "      <th>6</th>\n",
       "      <td>6</td>\n",
       "      <td>retained</td>\n",
       "      <td>3</td>\n",
       "      <td>2</td>\n",
       "      <td>236.725314</td>\n",
       "      <td>360</td>\n",
       "      <td>185</td>\n",
       "      <td>18</td>\n",
       "      <td>5249.172828</td>\n",
       "      <td>726.577205</td>\n",
       "      <td>28</td>\n",
       "      <td>23</td>\n",
       "      <td>iPhone</td>\n",
       "    </tr>\n",
       "    <tr>\n",
       "      <th>7</th>\n",
       "      <td>7</td>\n",
       "      <td>retained</td>\n",
       "      <td>39</td>\n",
       "      <td>35</td>\n",
       "      <td>176.072845</td>\n",
       "      <td>2999</td>\n",
       "      <td>0</td>\n",
       "      <td>0</td>\n",
       "      <td>7892.052468</td>\n",
       "      <td>2466.981741</td>\n",
       "      <td>22</td>\n",
       "      <td>20</td>\n",
       "      <td>iPhone</td>\n",
       "    </tr>\n",
       "    <tr>\n",
       "      <th>8</th>\n",
       "      <td>8</td>\n",
       "      <td>retained</td>\n",
       "      <td>57</td>\n",
       "      <td>46</td>\n",
       "      <td>183.532018</td>\n",
       "      <td>424</td>\n",
       "      <td>0</td>\n",
       "      <td>26</td>\n",
       "      <td>2651.709764</td>\n",
       "      <td>1594.342984</td>\n",
       "      <td>25</td>\n",
       "      <td>20</td>\n",
       "      <td>Android</td>\n",
       "    </tr>\n",
       "    <tr>\n",
       "      <th>9</th>\n",
       "      <td>9</td>\n",
       "      <td>churned</td>\n",
       "      <td>84</td>\n",
       "      <td>68</td>\n",
       "      <td>244.802115</td>\n",
       "      <td>2997</td>\n",
       "      <td>72</td>\n",
       "      <td>0</td>\n",
       "      <td>6043.460295</td>\n",
       "      <td>2341.838528</td>\n",
       "      <td>7</td>\n",
       "      <td>3</td>\n",
       "      <td>iPhone</td>\n",
       "    </tr>\n",
       "  </tbody>\n",
       "</table>\n",
       "</div>"
      ],
      "text/plain": [
       "   ID     label  sessions  drives  total_sessions  n_days_after_onboarding  \\\n",
       "0   0  retained       283     226      296.748273                     2276   \n",
       "1   1  retained       133     107      326.896596                     1225   \n",
       "2   2  retained       114      95      135.522926                     2651   \n",
       "3   3  retained        49      40       67.589221                       15   \n",
       "4   4  retained        84      68      168.247020                     1562   \n",
       "5   5  retained       113     103      279.544437                     2637   \n",
       "6   6  retained         3       2      236.725314                      360   \n",
       "7   7  retained        39      35      176.072845                     2999   \n",
       "8   8  retained        57      46      183.532018                      424   \n",
       "9   9   churned        84      68      244.802115                     2997   \n",
       "\n",
       "   total_navigations_fav1  total_navigations_fav2  driven_km_drives  \\\n",
       "0                     208                       0       2628.845068   \n",
       "1                      19                      64      13715.920550   \n",
       "2                       0                       0       3059.148818   \n",
       "3                     322                       7        913.591123   \n",
       "4                     166                       5       3950.202008   \n",
       "5                       0                       0        901.238699   \n",
       "6                     185                      18       5249.172828   \n",
       "7                       0                       0       7892.052468   \n",
       "8                       0                      26       2651.709764   \n",
       "9                      72                       0       6043.460295   \n",
       "\n",
       "   duration_minutes_drives  activity_days  driving_days   device  \n",
       "0              1985.775061             28            19  Android  \n",
       "1              3160.472914             13            11   iPhone  \n",
       "2              1610.735904             14             8  Android  \n",
       "3               587.196542              7             3   iPhone  \n",
       "4              1219.555924             27            18  Android  \n",
       "5               439.101397             15            11   iPhone  \n",
       "6               726.577205             28            23   iPhone  \n",
       "7              2466.981741             22            20   iPhone  \n",
       "8              1594.342984             25            20  Android  \n",
       "9              2341.838528              7             3   iPhone  "
      ]
     },
     "execution_count": 3,
     "metadata": {},
     "output_type": "execute_result"
    }
   ],
   "source": [
    "df.head(10)\n"
   ]
  },
  {
   "cell_type": "code",
   "execution_count": 4,
   "metadata": {
    "id": "3NctoTSAvGGD"
   },
   "outputs": [
    {
     "name": "stdout",
     "output_type": "stream",
     "text": [
      "<class 'pandas.core.frame.DataFrame'>\n",
      "RangeIndex: 14999 entries, 0 to 14998\n",
      "Data columns (total 13 columns):\n",
      " #   Column                   Non-Null Count  Dtype  \n",
      "---  ------                   --------------  -----  \n",
      " 0   ID                       14999 non-null  int64  \n",
      " 1   label                    14299 non-null  object \n",
      " 2   sessions                 14999 non-null  int64  \n",
      " 3   drives                   14999 non-null  int64  \n",
      " 4   total_sessions           14999 non-null  float64\n",
      " 5   n_days_after_onboarding  14999 non-null  int64  \n",
      " 6   total_navigations_fav1   14999 non-null  int64  \n",
      " 7   total_navigations_fav2   14999 non-null  int64  \n",
      " 8   driven_km_drives         14999 non-null  float64\n",
      " 9   duration_minutes_drives  14999 non-null  float64\n",
      " 10  activity_days            14999 non-null  int64  \n",
      " 11  driving_days             14999 non-null  int64  \n",
      " 12  device                   14999 non-null  object \n",
      "dtypes: float64(3), int64(8), object(2)\n",
      "memory usage: 1.5+ MB\n"
     ]
    }
   ],
   "source": [
    "df.info()"
   ]
  },
  {
   "cell_type": "markdown",
   "metadata": {
    "id": "JscqNfr6ZVsE"
   },
   "source": [
    "1. No.\n",
    "2. Data types: float64(3), int64(8), object(2). Number of columns: 13, number of rows: 14,999.\n",
    "3. Yes, under the 'label' column."
   ]
  },
  {
   "cell_type": "markdown",
   "metadata": {
    "id": "BMNnIoc51_1N"
   },
   "source": [
    "### **Task 2c. Null values and summary statistics**\n",
    "\n",
    "Compare the summary statistics of the 700 rows that are missing labels with summary statistics of the rows that are not missing any values.\n",
    "\n",
    "**Question:** Is there a discernible difference between the two populations?\n"
   ]
  },
  {
   "cell_type": "code",
   "execution_count": 5,
   "metadata": {
    "id": "bAQeHW-d2S1-"
   },
   "outputs": [
    {
     "data": {
      "application/vnd.microsoft.datawrangler.viewer.v0+json": {
       "columns": [
        {
         "name": "index",
         "rawType": "object",
         "type": "string"
        },
        {
         "name": "ID",
         "rawType": "float64",
         "type": "float"
        },
        {
         "name": "sessions",
         "rawType": "float64",
         "type": "float"
        },
        {
         "name": "drives",
         "rawType": "float64",
         "type": "float"
        },
        {
         "name": "total_sessions",
         "rawType": "float64",
         "type": "float"
        },
        {
         "name": "n_days_after_onboarding",
         "rawType": "float64",
         "type": "float"
        },
        {
         "name": "total_navigations_fav1",
         "rawType": "float64",
         "type": "float"
        },
        {
         "name": "total_navigations_fav2",
         "rawType": "float64",
         "type": "float"
        },
        {
         "name": "driven_km_drives",
         "rawType": "float64",
         "type": "float"
        },
        {
         "name": "duration_minutes_drives",
         "rawType": "float64",
         "type": "float"
        },
        {
         "name": "activity_days",
         "rawType": "float64",
         "type": "float"
        },
        {
         "name": "driving_days",
         "rawType": "float64",
         "type": "float"
        }
       ],
       "conversionMethod": "pd.DataFrame",
       "ref": "49826c6c-b0db-47cf-8153-7887584d643a",
       "rows": [
        [
         "count",
         "700.0",
         "700.0",
         "700.0",
         "700.0",
         "700.0",
         "700.0",
         "700.0",
         "700.0",
         "700.0",
         "700.0",
         "700.0"
        ],
        [
         "mean",
         "7405.584285714286",
         "80.83714285714285",
         "67.79857142857144",
         "198.48334790015",
         "1709.2957142857142",
         "118.71714285714286",
         "30.37142857142857",
         "3935.9670287487143",
         "1795.1233577937574",
         "15.382857142857143",
         "12.125714285714286"
        ],
        [
         "std",
         "4306.900233952217",
         "79.98744030777317",
         "65.27192595912932",
         "140.56171465368314",
         "1005.3065623917417",
         "156.3081399438687",
         "46.30698443738749",
         "2443.1071205106214",
         "1419.2422456058082",
         "8.77271376750179",
         "7.626373292018237"
        ],
        [
         "min",
         "77.0",
         "0.0",
         "0.0",
         "5.582648005",
         "16.0",
         "0.0",
         "0.0",
         "290.1198107",
         "66.58849334",
         "0.0",
         "0.0"
        ],
        [
         "25%",
         "3744.5",
         "23.0",
         "20.0",
         "94.05634032",
         "869.0",
         "4.0",
         "0.0",
         "2119.34481825",
         "779.009271275",
         "8.0",
         "6.0"
        ],
        [
         "50%",
         "7443.0",
         "56.0",
         "47.5",
         "177.25592484999999",
         "1650.5",
         "62.5",
         "10.0",
         "3421.1567205",
         "1414.9662785",
         "15.0",
         "12.0"
        ],
        [
         "75%",
         "11007.0",
         "112.25",
         "94.0",
         "266.058021575",
         "2508.75",
         "169.25",
         "43.0",
         "5166.0973727499995",
         "2443.95540425",
         "23.0",
         "18.0"
        ],
        [
         "max",
         "14993.0",
         "556.0",
         "445.0",
         "1076.879741",
         "3498.0",
         "1096.0",
         "352.0",
         "15135.39128",
         "9746.253023",
         "31.0",
         "30.0"
        ]
       ],
       "shape": {
        "columns": 11,
        "rows": 8
       }
      },
      "text/html": [
       "<div>\n",
       "<style scoped>\n",
       "    .dataframe tbody tr th:only-of-type {\n",
       "        vertical-align: middle;\n",
       "    }\n",
       "\n",
       "    .dataframe tbody tr th {\n",
       "        vertical-align: top;\n",
       "    }\n",
       "\n",
       "    .dataframe thead th {\n",
       "        text-align: right;\n",
       "    }\n",
       "</style>\n",
       "<table border=\"1\" class=\"dataframe\">\n",
       "  <thead>\n",
       "    <tr style=\"text-align: right;\">\n",
       "      <th></th>\n",
       "      <th>ID</th>\n",
       "      <th>sessions</th>\n",
       "      <th>drives</th>\n",
       "      <th>total_sessions</th>\n",
       "      <th>n_days_after_onboarding</th>\n",
       "      <th>total_navigations_fav1</th>\n",
       "      <th>total_navigations_fav2</th>\n",
       "      <th>driven_km_drives</th>\n",
       "      <th>duration_minutes_drives</th>\n",
       "      <th>activity_days</th>\n",
       "      <th>driving_days</th>\n",
       "    </tr>\n",
       "  </thead>\n",
       "  <tbody>\n",
       "    <tr>\n",
       "      <th>count</th>\n",
       "      <td>700.000000</td>\n",
       "      <td>700.000000</td>\n",
       "      <td>700.000000</td>\n",
       "      <td>700.000000</td>\n",
       "      <td>700.000000</td>\n",
       "      <td>700.000000</td>\n",
       "      <td>700.000000</td>\n",
       "      <td>700.000000</td>\n",
       "      <td>700.000000</td>\n",
       "      <td>700.000000</td>\n",
       "      <td>700.000000</td>\n",
       "    </tr>\n",
       "    <tr>\n",
       "      <th>mean</th>\n",
       "      <td>7405.584286</td>\n",
       "      <td>80.837143</td>\n",
       "      <td>67.798571</td>\n",
       "      <td>198.483348</td>\n",
       "      <td>1709.295714</td>\n",
       "      <td>118.717143</td>\n",
       "      <td>30.371429</td>\n",
       "      <td>3935.967029</td>\n",
       "      <td>1795.123358</td>\n",
       "      <td>15.382857</td>\n",
       "      <td>12.125714</td>\n",
       "    </tr>\n",
       "    <tr>\n",
       "      <th>std</th>\n",
       "      <td>4306.900234</td>\n",
       "      <td>79.987440</td>\n",
       "      <td>65.271926</td>\n",
       "      <td>140.561715</td>\n",
       "      <td>1005.306562</td>\n",
       "      <td>156.308140</td>\n",
       "      <td>46.306984</td>\n",
       "      <td>2443.107121</td>\n",
       "      <td>1419.242246</td>\n",
       "      <td>8.772714</td>\n",
       "      <td>7.626373</td>\n",
       "    </tr>\n",
       "    <tr>\n",
       "      <th>min</th>\n",
       "      <td>77.000000</td>\n",
       "      <td>0.000000</td>\n",
       "      <td>0.000000</td>\n",
       "      <td>5.582648</td>\n",
       "      <td>16.000000</td>\n",
       "      <td>0.000000</td>\n",
       "      <td>0.000000</td>\n",
       "      <td>290.119811</td>\n",
       "      <td>66.588493</td>\n",
       "      <td>0.000000</td>\n",
       "      <td>0.000000</td>\n",
       "    </tr>\n",
       "    <tr>\n",
       "      <th>25%</th>\n",
       "      <td>3744.500000</td>\n",
       "      <td>23.000000</td>\n",
       "      <td>20.000000</td>\n",
       "      <td>94.056340</td>\n",
       "      <td>869.000000</td>\n",
       "      <td>4.000000</td>\n",
       "      <td>0.000000</td>\n",
       "      <td>2119.344818</td>\n",
       "      <td>779.009271</td>\n",
       "      <td>8.000000</td>\n",
       "      <td>6.000000</td>\n",
       "    </tr>\n",
       "    <tr>\n",
       "      <th>50%</th>\n",
       "      <td>7443.000000</td>\n",
       "      <td>56.000000</td>\n",
       "      <td>47.500000</td>\n",
       "      <td>177.255925</td>\n",
       "      <td>1650.500000</td>\n",
       "      <td>62.500000</td>\n",
       "      <td>10.000000</td>\n",
       "      <td>3421.156721</td>\n",
       "      <td>1414.966279</td>\n",
       "      <td>15.000000</td>\n",
       "      <td>12.000000</td>\n",
       "    </tr>\n",
       "    <tr>\n",
       "      <th>75%</th>\n",
       "      <td>11007.000000</td>\n",
       "      <td>112.250000</td>\n",
       "      <td>94.000000</td>\n",
       "      <td>266.058022</td>\n",
       "      <td>2508.750000</td>\n",
       "      <td>169.250000</td>\n",
       "      <td>43.000000</td>\n",
       "      <td>5166.097373</td>\n",
       "      <td>2443.955404</td>\n",
       "      <td>23.000000</td>\n",
       "      <td>18.000000</td>\n",
       "    </tr>\n",
       "    <tr>\n",
       "      <th>max</th>\n",
       "      <td>14993.000000</td>\n",
       "      <td>556.000000</td>\n",
       "      <td>445.000000</td>\n",
       "      <td>1076.879741</td>\n",
       "      <td>3498.000000</td>\n",
       "      <td>1096.000000</td>\n",
       "      <td>352.000000</td>\n",
       "      <td>15135.391280</td>\n",
       "      <td>9746.253023</td>\n",
       "      <td>31.000000</td>\n",
       "      <td>30.000000</td>\n",
       "    </tr>\n",
       "  </tbody>\n",
       "</table>\n",
       "</div>"
      ],
      "text/plain": [
       "                 ID    sessions      drives  total_sessions  \\\n",
       "count    700.000000  700.000000  700.000000      700.000000   \n",
       "mean    7405.584286   80.837143   67.798571      198.483348   \n",
       "std     4306.900234   79.987440   65.271926      140.561715   \n",
       "min       77.000000    0.000000    0.000000        5.582648   \n",
       "25%     3744.500000   23.000000   20.000000       94.056340   \n",
       "50%     7443.000000   56.000000   47.500000      177.255925   \n",
       "75%    11007.000000  112.250000   94.000000      266.058022   \n",
       "max    14993.000000  556.000000  445.000000     1076.879741   \n",
       "\n",
       "       n_days_after_onboarding  total_navigations_fav1  \\\n",
       "count               700.000000              700.000000   \n",
       "mean               1709.295714              118.717143   \n",
       "std                1005.306562              156.308140   \n",
       "min                  16.000000                0.000000   \n",
       "25%                 869.000000                4.000000   \n",
       "50%                1650.500000               62.500000   \n",
       "75%                2508.750000              169.250000   \n",
       "max                3498.000000             1096.000000   \n",
       "\n",
       "       total_navigations_fav2  driven_km_drives  duration_minutes_drives  \\\n",
       "count              700.000000        700.000000               700.000000   \n",
       "mean                30.371429       3935.967029              1795.123358   \n",
       "std                 46.306984       2443.107121              1419.242246   \n",
       "min                  0.000000        290.119811                66.588493   \n",
       "25%                  0.000000       2119.344818               779.009271   \n",
       "50%                 10.000000       3421.156721              1414.966279   \n",
       "75%                 43.000000       5166.097373              2443.955404   \n",
       "max                352.000000      15135.391280              9746.253023   \n",
       "\n",
       "       activity_days  driving_days  \n",
       "count     700.000000    700.000000  \n",
       "mean       15.382857     12.125714  \n",
       "std         8.772714      7.626373  \n",
       "min         0.000000      0.000000  \n",
       "25%         8.000000      6.000000  \n",
       "50%        15.000000     12.000000  \n",
       "75%        23.000000     18.000000  \n",
       "max        31.000000     30.000000  "
      ]
     },
     "execution_count": 5,
     "metadata": {},
     "output_type": "execute_result"
    }
   ],
   "source": [
    "# Isolate rows with null values\n",
    "mask_1 = (df['label'] != 'retained') & (df['label'] != 'churned')\n",
    "null_values = df[mask_1]\n",
    "\n",
    "# Display summary stats of rows with null values\n",
    "null_values.describe()\n"
   ]
  },
  {
   "cell_type": "code",
   "execution_count": 6,
   "metadata": {},
   "outputs": [
    {
     "data": {
      "application/vnd.microsoft.datawrangler.viewer.v0+json": {
       "columns": [
        {
         "name": "index",
         "rawType": "int64",
         "type": "integer"
        },
        {
         "name": "ID",
         "rawType": "int64",
         "type": "integer"
        },
        {
         "name": "label",
         "rawType": "object",
         "type": "unknown"
        },
        {
         "name": "sessions",
         "rawType": "int64",
         "type": "integer"
        },
        {
         "name": "drives",
         "rawType": "int64",
         "type": "integer"
        },
        {
         "name": "total_sessions",
         "rawType": "float64",
         "type": "float"
        },
        {
         "name": "n_days_after_onboarding",
         "rawType": "int64",
         "type": "integer"
        },
        {
         "name": "total_navigations_fav1",
         "rawType": "int64",
         "type": "integer"
        },
        {
         "name": "total_navigations_fav2",
         "rawType": "int64",
         "type": "integer"
        },
        {
         "name": "driven_km_drives",
         "rawType": "float64",
         "type": "float"
        },
        {
         "name": "duration_minutes_drives",
         "rawType": "float64",
         "type": "float"
        },
        {
         "name": "activity_days",
         "rawType": "int64",
         "type": "integer"
        },
        {
         "name": "driving_days",
         "rawType": "int64",
         "type": "integer"
        },
        {
         "name": "device",
         "rawType": "object",
         "type": "string"
        }
       ],
       "conversionMethod": "pd.DataFrame",
       "ref": "3c88e510-32a5-4d3d-b346-118b69a31fc2",
       "rows": [
        [
         "77",
         "77",
         null,
         "63",
         "50",
         "133.1041552",
         "783",
         "201",
         "0",
         "2649.015822",
         "1517.20997",
         "19",
         "13",
         "iPhone"
        ],
        [
         "80",
         "80",
         null,
         "116",
         "93",
         "436.0601833",
         "1584",
         "283",
         "62",
         "4183.409514",
         "3121.889952",
         "18",
         "15",
         "iPhone"
        ],
        [
         "98",
         "98",
         null,
         "78",
         "64",
         "583.4927887",
         "3414",
         "0",
         "0",
         "1811.140893",
         "642.1891216",
         "12",
         "11",
         "Android"
        ],
        [
         "111",
         "111",
         null,
         "106",
         "102",
         "113.3790556",
         "2228",
         "14",
         "0",
         "2817.48184",
         "2011.724274",
         "17",
         "13",
         "Android"
        ],
        [
         "142",
         "142",
         null,
         "32",
         "26",
         "222.12931",
         "208",
         "55",
         "10",
         "2459.816477",
         "874.4276172",
         "11",
         "7",
         "iPhone"
        ],
        [
         "162",
         "162",
         null,
         "3",
         "3",
         "17.25022014",
         "3203",
         "22",
         "0",
         "11819.36633",
         "3351.019594",
         "3",
         "0",
         "iPhone"
        ],
        [
         "176",
         "176",
         null,
         "283",
         "226",
         "529.5339436",
         "1110",
         "6",
         "0",
         "3028.6013",
         "2489.697005",
         "17",
         "11",
         "iPhone"
        ],
        [
         "199",
         "199",
         null,
         "27",
         "23",
         "196.8396051",
         "2800",
         "156",
         "0",
         "11579.5651",
         "3373.482562",
         "23",
         "18",
         "iPhone"
        ],
        [
         "266",
         "266",
         null,
         "70",
         "58",
         "137.1512793",
         "3264",
         "45",
         "0",
         "1305.946778",
         "996.394443",
         "21",
         "18",
         "Android"
        ],
        [
         "283",
         "283",
         null,
         "170",
         "137",
         "354.2976621",
         "869",
         "18",
         "25",
         "3914.401147",
         "2500.266993",
         "3",
         "2",
         "Android"
        ],
        [
         "288",
         "288",
         null,
         "199",
         "159",
         "248.5608538",
         "2959",
         "127",
         "0",
         "5285.296516",
         "1383.3253",
         "29",
         "20",
         "Android"
        ],
        [
         "301",
         "301",
         null,
         "73",
         "60",
         "268.3285197",
         "164",
         "12",
         "97",
         "1811.870085",
         "922.1091853",
         "28",
         "26",
         "iPhone"
        ],
        [
         "309",
         "309",
         null,
         "95",
         "81",
         "140.0939743",
         "58",
         "151",
         "79",
         "5847.252244",
         "2656.0579",
         "30",
         "28",
         "iPhone"
        ],
        [
         "313",
         "313",
         null,
         "207",
         "175",
         "351.947218",
         "422",
         "119",
         "17",
         "2090.096785",
         "779.048037",
         "5",
         "5",
         "Android"
        ],
        [
         "330",
         "330",
         null,
         "121",
         "97",
         "203.6034511",
         "405",
         "16",
         "0",
         "1572.853676",
         "1213.968373",
         "0",
         "0",
         "iPhone"
        ],
        [
         "333",
         "333",
         null,
         "87",
         "70",
         "253.1402342",
         "2461",
         "230",
         "0",
         "3654.784978",
         "788.4801164",
         "12",
         "12",
         "iPhone"
        ],
        [
         "446",
         "446",
         null,
         "33",
         "30",
         "43.43324697",
         "1240",
         "0",
         "0",
         "1608.596461",
         "474.6238715",
         "23",
         "19",
         "Android"
        ],
        [
         "454",
         "454",
         null,
         "2",
         "2",
         "46.74188643",
         "1680",
         "51",
         "0",
         "6822.713755",
         "4850.783454",
         "5",
         "5",
         "iPhone"
        ],
        [
         "485",
         "485",
         null,
         "0",
         "0",
         "90.74746615",
         "579",
         "229",
         "0",
         "1363.20614",
         "66.58849334",
         "15",
         "11",
         "iPhone"
        ],
        [
         "495",
         "495",
         null,
         "7",
         "6",
         "62.10185332",
         "202",
         "57",
         "148",
         "5245.29866",
         "3699.588202",
         "6",
         "6",
         "Android"
        ],
        [
         "574",
         "574",
         null,
         "116",
         "96",
         "124.9672438",
         "952",
         "34",
         "0",
         "4626.352023",
         "3398.917717",
         "2",
         "0",
         "iPhone"
        ],
        [
         "592",
         "592",
         null,
         "38",
         "31",
         "206.5578046",
         "1852",
         "214",
         "0",
         "4290.384463",
         "2669.316885",
         "20",
         "16",
         "iPhone"
        ],
        [
         "658",
         "658",
         null,
         "6",
         "6",
         "200.8546865",
         "692",
         "0",
         "0",
         "1813.484596",
         "1131.874772",
         "27",
         "24",
         "iPhone"
        ],
        [
         "677",
         "677",
         null,
         "16",
         "16",
         "237.7061548",
         "1598",
         "0",
         "0",
         "4376.21809",
         "3154.184912",
         "7",
         "7",
         "iPhone"
        ],
        [
         "690",
         "690",
         null,
         "4",
         "4",
         "64.27106133",
         "3375",
         "389",
         "77",
         "2383.058247",
         "1693.76294",
         "5",
         "5",
         "Android"
        ],
        [
         "712",
         "712",
         null,
         "86",
         "71",
         "261.8245093",
         "106",
         "56",
         "0",
         "2161.212317",
         "930.2563884",
         "9",
         "6",
         "Android"
        ],
        [
         "718",
         "718",
         null,
         "400",
         "321",
         "497.1180536",
         "1884",
         "0",
         "0",
         "4344.17395",
         "512.1110058",
         "19",
         "17",
         "iPhone"
        ],
        [
         "747",
         "747",
         null,
         "268",
         "215",
         "302.2818373",
         "1185",
         "108",
         "0",
         "3015.101378",
         "2137.981982",
         "27",
         "21",
         "iPhone"
        ],
        [
         "753",
         "753",
         null,
         "18",
         "14",
         "347.1359835",
         "1728",
         "171",
         "0",
         "2323.325762",
         "1028.004191",
         "16",
         "16",
         "iPhone"
        ],
        [
         "773",
         "773",
         null,
         "140",
         "125",
         "345.0648904",
         "3458",
         "0",
         "9",
         "4189.778737",
         "1192.007707",
         "8",
         "4",
         "Android"
        ]
       ],
       "shape": {
        "columns": 13,
        "rows": 30
       }
      },
      "text/html": [
       "<div>\n",
       "<style scoped>\n",
       "    .dataframe tbody tr th:only-of-type {\n",
       "        vertical-align: middle;\n",
       "    }\n",
       "\n",
       "    .dataframe tbody tr th {\n",
       "        vertical-align: top;\n",
       "    }\n",
       "\n",
       "    .dataframe thead th {\n",
       "        text-align: right;\n",
       "    }\n",
       "</style>\n",
       "<table border=\"1\" class=\"dataframe\">\n",
       "  <thead>\n",
       "    <tr style=\"text-align: right;\">\n",
       "      <th></th>\n",
       "      <th>ID</th>\n",
       "      <th>label</th>\n",
       "      <th>sessions</th>\n",
       "      <th>drives</th>\n",
       "      <th>total_sessions</th>\n",
       "      <th>n_days_after_onboarding</th>\n",
       "      <th>total_navigations_fav1</th>\n",
       "      <th>total_navigations_fav2</th>\n",
       "      <th>driven_km_drives</th>\n",
       "      <th>duration_minutes_drives</th>\n",
       "      <th>activity_days</th>\n",
       "      <th>driving_days</th>\n",
       "      <th>device</th>\n",
       "    </tr>\n",
       "  </thead>\n",
       "  <tbody>\n",
       "    <tr>\n",
       "      <th>77</th>\n",
       "      <td>77</td>\n",
       "      <td>NaN</td>\n",
       "      <td>63</td>\n",
       "      <td>50</td>\n",
       "      <td>133.104155</td>\n",
       "      <td>783</td>\n",
       "      <td>201</td>\n",
       "      <td>0</td>\n",
       "      <td>2649.015822</td>\n",
       "      <td>1517.209970</td>\n",
       "      <td>19</td>\n",
       "      <td>13</td>\n",
       "      <td>iPhone</td>\n",
       "    </tr>\n",
       "    <tr>\n",
       "      <th>80</th>\n",
       "      <td>80</td>\n",
       "      <td>NaN</td>\n",
       "      <td>116</td>\n",
       "      <td>93</td>\n",
       "      <td>436.060183</td>\n",
       "      <td>1584</td>\n",
       "      <td>283</td>\n",
       "      <td>62</td>\n",
       "      <td>4183.409514</td>\n",
       "      <td>3121.889952</td>\n",
       "      <td>18</td>\n",
       "      <td>15</td>\n",
       "      <td>iPhone</td>\n",
       "    </tr>\n",
       "    <tr>\n",
       "      <th>98</th>\n",
       "      <td>98</td>\n",
       "      <td>NaN</td>\n",
       "      <td>78</td>\n",
       "      <td>64</td>\n",
       "      <td>583.492789</td>\n",
       "      <td>3414</td>\n",
       "      <td>0</td>\n",
       "      <td>0</td>\n",
       "      <td>1811.140893</td>\n",
       "      <td>642.189122</td>\n",
       "      <td>12</td>\n",
       "      <td>11</td>\n",
       "      <td>Android</td>\n",
       "    </tr>\n",
       "    <tr>\n",
       "      <th>111</th>\n",
       "      <td>111</td>\n",
       "      <td>NaN</td>\n",
       "      <td>106</td>\n",
       "      <td>102</td>\n",
       "      <td>113.379056</td>\n",
       "      <td>2228</td>\n",
       "      <td>14</td>\n",
       "      <td>0</td>\n",
       "      <td>2817.481840</td>\n",
       "      <td>2011.724274</td>\n",
       "      <td>17</td>\n",
       "      <td>13</td>\n",
       "      <td>Android</td>\n",
       "    </tr>\n",
       "    <tr>\n",
       "      <th>142</th>\n",
       "      <td>142</td>\n",
       "      <td>NaN</td>\n",
       "      <td>32</td>\n",
       "      <td>26</td>\n",
       "      <td>222.129310</td>\n",
       "      <td>208</td>\n",
       "      <td>55</td>\n",
       "      <td>10</td>\n",
       "      <td>2459.816477</td>\n",
       "      <td>874.427617</td>\n",
       "      <td>11</td>\n",
       "      <td>7</td>\n",
       "      <td>iPhone</td>\n",
       "    </tr>\n",
       "    <tr>\n",
       "      <th>162</th>\n",
       "      <td>162</td>\n",
       "      <td>NaN</td>\n",
       "      <td>3</td>\n",
       "      <td>3</td>\n",
       "      <td>17.250220</td>\n",
       "      <td>3203</td>\n",
       "      <td>22</td>\n",
       "      <td>0</td>\n",
       "      <td>11819.366330</td>\n",
       "      <td>3351.019594</td>\n",
       "      <td>3</td>\n",
       "      <td>0</td>\n",
       "      <td>iPhone</td>\n",
       "    </tr>\n",
       "    <tr>\n",
       "      <th>176</th>\n",
       "      <td>176</td>\n",
       "      <td>NaN</td>\n",
       "      <td>283</td>\n",
       "      <td>226</td>\n",
       "      <td>529.533944</td>\n",
       "      <td>1110</td>\n",
       "      <td>6</td>\n",
       "      <td>0</td>\n",
       "      <td>3028.601300</td>\n",
       "      <td>2489.697005</td>\n",
       "      <td>17</td>\n",
       "      <td>11</td>\n",
       "      <td>iPhone</td>\n",
       "    </tr>\n",
       "    <tr>\n",
       "      <th>199</th>\n",
       "      <td>199</td>\n",
       "      <td>NaN</td>\n",
       "      <td>27</td>\n",
       "      <td>23</td>\n",
       "      <td>196.839605</td>\n",
       "      <td>2800</td>\n",
       "      <td>156</td>\n",
       "      <td>0</td>\n",
       "      <td>11579.565100</td>\n",
       "      <td>3373.482562</td>\n",
       "      <td>23</td>\n",
       "      <td>18</td>\n",
       "      <td>iPhone</td>\n",
       "    </tr>\n",
       "    <tr>\n",
       "      <th>266</th>\n",
       "      <td>266</td>\n",
       "      <td>NaN</td>\n",
       "      <td>70</td>\n",
       "      <td>58</td>\n",
       "      <td>137.151279</td>\n",
       "      <td>3264</td>\n",
       "      <td>45</td>\n",
       "      <td>0</td>\n",
       "      <td>1305.946778</td>\n",
       "      <td>996.394443</td>\n",
       "      <td>21</td>\n",
       "      <td>18</td>\n",
       "      <td>Android</td>\n",
       "    </tr>\n",
       "    <tr>\n",
       "      <th>283</th>\n",
       "      <td>283</td>\n",
       "      <td>NaN</td>\n",
       "      <td>170</td>\n",
       "      <td>137</td>\n",
       "      <td>354.297662</td>\n",
       "      <td>869</td>\n",
       "      <td>18</td>\n",
       "      <td>25</td>\n",
       "      <td>3914.401147</td>\n",
       "      <td>2500.266993</td>\n",
       "      <td>3</td>\n",
       "      <td>2</td>\n",
       "      <td>Android</td>\n",
       "    </tr>\n",
       "    <tr>\n",
       "      <th>288</th>\n",
       "      <td>288</td>\n",
       "      <td>NaN</td>\n",
       "      <td>199</td>\n",
       "      <td>159</td>\n",
       "      <td>248.560854</td>\n",
       "      <td>2959</td>\n",
       "      <td>127</td>\n",
       "      <td>0</td>\n",
       "      <td>5285.296516</td>\n",
       "      <td>1383.325300</td>\n",
       "      <td>29</td>\n",
       "      <td>20</td>\n",
       "      <td>Android</td>\n",
       "    </tr>\n",
       "    <tr>\n",
       "      <th>301</th>\n",
       "      <td>301</td>\n",
       "      <td>NaN</td>\n",
       "      <td>73</td>\n",
       "      <td>60</td>\n",
       "      <td>268.328520</td>\n",
       "      <td>164</td>\n",
       "      <td>12</td>\n",
       "      <td>97</td>\n",
       "      <td>1811.870085</td>\n",
       "      <td>922.109185</td>\n",
       "      <td>28</td>\n",
       "      <td>26</td>\n",
       "      <td>iPhone</td>\n",
       "    </tr>\n",
       "    <tr>\n",
       "      <th>309</th>\n",
       "      <td>309</td>\n",
       "      <td>NaN</td>\n",
       "      <td>95</td>\n",
       "      <td>81</td>\n",
       "      <td>140.093974</td>\n",
       "      <td>58</td>\n",
       "      <td>151</td>\n",
       "      <td>79</td>\n",
       "      <td>5847.252244</td>\n",
       "      <td>2656.057900</td>\n",
       "      <td>30</td>\n",
       "      <td>28</td>\n",
       "      <td>iPhone</td>\n",
       "    </tr>\n",
       "    <tr>\n",
       "      <th>313</th>\n",
       "      <td>313</td>\n",
       "      <td>NaN</td>\n",
       "      <td>207</td>\n",
       "      <td>175</td>\n",
       "      <td>351.947218</td>\n",
       "      <td>422</td>\n",
       "      <td>119</td>\n",
       "      <td>17</td>\n",
       "      <td>2090.096785</td>\n",
       "      <td>779.048037</td>\n",
       "      <td>5</td>\n",
       "      <td>5</td>\n",
       "      <td>Android</td>\n",
       "    </tr>\n",
       "    <tr>\n",
       "      <th>330</th>\n",
       "      <td>330</td>\n",
       "      <td>NaN</td>\n",
       "      <td>121</td>\n",
       "      <td>97</td>\n",
       "      <td>203.603451</td>\n",
       "      <td>405</td>\n",
       "      <td>16</td>\n",
       "      <td>0</td>\n",
       "      <td>1572.853676</td>\n",
       "      <td>1213.968373</td>\n",
       "      <td>0</td>\n",
       "      <td>0</td>\n",
       "      <td>iPhone</td>\n",
       "    </tr>\n",
       "    <tr>\n",
       "      <th>333</th>\n",
       "      <td>333</td>\n",
       "      <td>NaN</td>\n",
       "      <td>87</td>\n",
       "      <td>70</td>\n",
       "      <td>253.140234</td>\n",
       "      <td>2461</td>\n",
       "      <td>230</td>\n",
       "      <td>0</td>\n",
       "      <td>3654.784978</td>\n",
       "      <td>788.480116</td>\n",
       "      <td>12</td>\n",
       "      <td>12</td>\n",
       "      <td>iPhone</td>\n",
       "    </tr>\n",
       "    <tr>\n",
       "      <th>446</th>\n",
       "      <td>446</td>\n",
       "      <td>NaN</td>\n",
       "      <td>33</td>\n",
       "      <td>30</td>\n",
       "      <td>43.433247</td>\n",
       "      <td>1240</td>\n",
       "      <td>0</td>\n",
       "      <td>0</td>\n",
       "      <td>1608.596461</td>\n",
       "      <td>474.623872</td>\n",
       "      <td>23</td>\n",
       "      <td>19</td>\n",
       "      <td>Android</td>\n",
       "    </tr>\n",
       "    <tr>\n",
       "      <th>454</th>\n",
       "      <td>454</td>\n",
       "      <td>NaN</td>\n",
       "      <td>2</td>\n",
       "      <td>2</td>\n",
       "      <td>46.741886</td>\n",
       "      <td>1680</td>\n",
       "      <td>51</td>\n",
       "      <td>0</td>\n",
       "      <td>6822.713755</td>\n",
       "      <td>4850.783454</td>\n",
       "      <td>5</td>\n",
       "      <td>5</td>\n",
       "      <td>iPhone</td>\n",
       "    </tr>\n",
       "    <tr>\n",
       "      <th>485</th>\n",
       "      <td>485</td>\n",
       "      <td>NaN</td>\n",
       "      <td>0</td>\n",
       "      <td>0</td>\n",
       "      <td>90.747466</td>\n",
       "      <td>579</td>\n",
       "      <td>229</td>\n",
       "      <td>0</td>\n",
       "      <td>1363.206140</td>\n",
       "      <td>66.588493</td>\n",
       "      <td>15</td>\n",
       "      <td>11</td>\n",
       "      <td>iPhone</td>\n",
       "    </tr>\n",
       "    <tr>\n",
       "      <th>495</th>\n",
       "      <td>495</td>\n",
       "      <td>NaN</td>\n",
       "      <td>7</td>\n",
       "      <td>6</td>\n",
       "      <td>62.101853</td>\n",
       "      <td>202</td>\n",
       "      <td>57</td>\n",
       "      <td>148</td>\n",
       "      <td>5245.298660</td>\n",
       "      <td>3699.588202</td>\n",
       "      <td>6</td>\n",
       "      <td>6</td>\n",
       "      <td>Android</td>\n",
       "    </tr>\n",
       "    <tr>\n",
       "      <th>574</th>\n",
       "      <td>574</td>\n",
       "      <td>NaN</td>\n",
       "      <td>116</td>\n",
       "      <td>96</td>\n",
       "      <td>124.967244</td>\n",
       "      <td>952</td>\n",
       "      <td>34</td>\n",
       "      <td>0</td>\n",
       "      <td>4626.352023</td>\n",
       "      <td>3398.917717</td>\n",
       "      <td>2</td>\n",
       "      <td>0</td>\n",
       "      <td>iPhone</td>\n",
       "    </tr>\n",
       "    <tr>\n",
       "      <th>592</th>\n",
       "      <td>592</td>\n",
       "      <td>NaN</td>\n",
       "      <td>38</td>\n",
       "      <td>31</td>\n",
       "      <td>206.557805</td>\n",
       "      <td>1852</td>\n",
       "      <td>214</td>\n",
       "      <td>0</td>\n",
       "      <td>4290.384463</td>\n",
       "      <td>2669.316885</td>\n",
       "      <td>20</td>\n",
       "      <td>16</td>\n",
       "      <td>iPhone</td>\n",
       "    </tr>\n",
       "    <tr>\n",
       "      <th>658</th>\n",
       "      <td>658</td>\n",
       "      <td>NaN</td>\n",
       "      <td>6</td>\n",
       "      <td>6</td>\n",
       "      <td>200.854687</td>\n",
       "      <td>692</td>\n",
       "      <td>0</td>\n",
       "      <td>0</td>\n",
       "      <td>1813.484596</td>\n",
       "      <td>1131.874772</td>\n",
       "      <td>27</td>\n",
       "      <td>24</td>\n",
       "      <td>iPhone</td>\n",
       "    </tr>\n",
       "    <tr>\n",
       "      <th>677</th>\n",
       "      <td>677</td>\n",
       "      <td>NaN</td>\n",
       "      <td>16</td>\n",
       "      <td>16</td>\n",
       "      <td>237.706155</td>\n",
       "      <td>1598</td>\n",
       "      <td>0</td>\n",
       "      <td>0</td>\n",
       "      <td>4376.218090</td>\n",
       "      <td>3154.184912</td>\n",
       "      <td>7</td>\n",
       "      <td>7</td>\n",
       "      <td>iPhone</td>\n",
       "    </tr>\n",
       "    <tr>\n",
       "      <th>690</th>\n",
       "      <td>690</td>\n",
       "      <td>NaN</td>\n",
       "      <td>4</td>\n",
       "      <td>4</td>\n",
       "      <td>64.271061</td>\n",
       "      <td>3375</td>\n",
       "      <td>389</td>\n",
       "      <td>77</td>\n",
       "      <td>2383.058247</td>\n",
       "      <td>1693.762940</td>\n",
       "      <td>5</td>\n",
       "      <td>5</td>\n",
       "      <td>Android</td>\n",
       "    </tr>\n",
       "    <tr>\n",
       "      <th>712</th>\n",
       "      <td>712</td>\n",
       "      <td>NaN</td>\n",
       "      <td>86</td>\n",
       "      <td>71</td>\n",
       "      <td>261.824509</td>\n",
       "      <td>106</td>\n",
       "      <td>56</td>\n",
       "      <td>0</td>\n",
       "      <td>2161.212317</td>\n",
       "      <td>930.256388</td>\n",
       "      <td>9</td>\n",
       "      <td>6</td>\n",
       "      <td>Android</td>\n",
       "    </tr>\n",
       "    <tr>\n",
       "      <th>718</th>\n",
       "      <td>718</td>\n",
       "      <td>NaN</td>\n",
       "      <td>400</td>\n",
       "      <td>321</td>\n",
       "      <td>497.118054</td>\n",
       "      <td>1884</td>\n",
       "      <td>0</td>\n",
       "      <td>0</td>\n",
       "      <td>4344.173950</td>\n",
       "      <td>512.111006</td>\n",
       "      <td>19</td>\n",
       "      <td>17</td>\n",
       "      <td>iPhone</td>\n",
       "    </tr>\n",
       "    <tr>\n",
       "      <th>747</th>\n",
       "      <td>747</td>\n",
       "      <td>NaN</td>\n",
       "      <td>268</td>\n",
       "      <td>215</td>\n",
       "      <td>302.281837</td>\n",
       "      <td>1185</td>\n",
       "      <td>108</td>\n",
       "      <td>0</td>\n",
       "      <td>3015.101378</td>\n",
       "      <td>2137.981982</td>\n",
       "      <td>27</td>\n",
       "      <td>21</td>\n",
       "      <td>iPhone</td>\n",
       "    </tr>\n",
       "    <tr>\n",
       "      <th>753</th>\n",
       "      <td>753</td>\n",
       "      <td>NaN</td>\n",
       "      <td>18</td>\n",
       "      <td>14</td>\n",
       "      <td>347.135984</td>\n",
       "      <td>1728</td>\n",
       "      <td>171</td>\n",
       "      <td>0</td>\n",
       "      <td>2323.325762</td>\n",
       "      <td>1028.004191</td>\n",
       "      <td>16</td>\n",
       "      <td>16</td>\n",
       "      <td>iPhone</td>\n",
       "    </tr>\n",
       "    <tr>\n",
       "      <th>773</th>\n",
       "      <td>773</td>\n",
       "      <td>NaN</td>\n",
       "      <td>140</td>\n",
       "      <td>125</td>\n",
       "      <td>345.064890</td>\n",
       "      <td>3458</td>\n",
       "      <td>0</td>\n",
       "      <td>9</td>\n",
       "      <td>4189.778737</td>\n",
       "      <td>1192.007707</td>\n",
       "      <td>8</td>\n",
       "      <td>4</td>\n",
       "      <td>Android</td>\n",
       "    </tr>\n",
       "  </tbody>\n",
       "</table>\n",
       "</div>"
      ],
      "text/plain": [
       "      ID label  sessions  drives  total_sessions  n_days_after_onboarding  \\\n",
       "77    77   NaN        63      50      133.104155                      783   \n",
       "80    80   NaN       116      93      436.060183                     1584   \n",
       "98    98   NaN        78      64      583.492789                     3414   \n",
       "111  111   NaN       106     102      113.379056                     2228   \n",
       "142  142   NaN        32      26      222.129310                      208   \n",
       "162  162   NaN         3       3       17.250220                     3203   \n",
       "176  176   NaN       283     226      529.533944                     1110   \n",
       "199  199   NaN        27      23      196.839605                     2800   \n",
       "266  266   NaN        70      58      137.151279                     3264   \n",
       "283  283   NaN       170     137      354.297662                      869   \n",
       "288  288   NaN       199     159      248.560854                     2959   \n",
       "301  301   NaN        73      60      268.328520                      164   \n",
       "309  309   NaN        95      81      140.093974                       58   \n",
       "313  313   NaN       207     175      351.947218                      422   \n",
       "330  330   NaN       121      97      203.603451                      405   \n",
       "333  333   NaN        87      70      253.140234                     2461   \n",
       "446  446   NaN        33      30       43.433247                     1240   \n",
       "454  454   NaN         2       2       46.741886                     1680   \n",
       "485  485   NaN         0       0       90.747466                      579   \n",
       "495  495   NaN         7       6       62.101853                      202   \n",
       "574  574   NaN       116      96      124.967244                      952   \n",
       "592  592   NaN        38      31      206.557805                     1852   \n",
       "658  658   NaN         6       6      200.854687                      692   \n",
       "677  677   NaN        16      16      237.706155                     1598   \n",
       "690  690   NaN         4       4       64.271061                     3375   \n",
       "712  712   NaN        86      71      261.824509                      106   \n",
       "718  718   NaN       400     321      497.118054                     1884   \n",
       "747  747   NaN       268     215      302.281837                     1185   \n",
       "753  753   NaN        18      14      347.135984                     1728   \n",
       "773  773   NaN       140     125      345.064890                     3458   \n",
       "\n",
       "     total_navigations_fav1  total_navigations_fav2  driven_km_drives  \\\n",
       "77                      201                       0       2649.015822   \n",
       "80                      283                      62       4183.409514   \n",
       "98                        0                       0       1811.140893   \n",
       "111                      14                       0       2817.481840   \n",
       "142                      55                      10       2459.816477   \n",
       "162                      22                       0      11819.366330   \n",
       "176                       6                       0       3028.601300   \n",
       "199                     156                       0      11579.565100   \n",
       "266                      45                       0       1305.946778   \n",
       "283                      18                      25       3914.401147   \n",
       "288                     127                       0       5285.296516   \n",
       "301                      12                      97       1811.870085   \n",
       "309                     151                      79       5847.252244   \n",
       "313                     119                      17       2090.096785   \n",
       "330                      16                       0       1572.853676   \n",
       "333                     230                       0       3654.784978   \n",
       "446                       0                       0       1608.596461   \n",
       "454                      51                       0       6822.713755   \n",
       "485                     229                       0       1363.206140   \n",
       "495                      57                     148       5245.298660   \n",
       "574                      34                       0       4626.352023   \n",
       "592                     214                       0       4290.384463   \n",
       "658                       0                       0       1813.484596   \n",
       "677                       0                       0       4376.218090   \n",
       "690                     389                      77       2383.058247   \n",
       "712                      56                       0       2161.212317   \n",
       "718                       0                       0       4344.173950   \n",
       "747                     108                       0       3015.101378   \n",
       "753                     171                       0       2323.325762   \n",
       "773                       0                       9       4189.778737   \n",
       "\n",
       "     duration_minutes_drives  activity_days  driving_days   device  \n",
       "77               1517.209970             19            13   iPhone  \n",
       "80               3121.889952             18            15   iPhone  \n",
       "98                642.189122             12            11  Android  \n",
       "111              2011.724274             17            13  Android  \n",
       "142               874.427617             11             7   iPhone  \n",
       "162              3351.019594              3             0   iPhone  \n",
       "176              2489.697005             17            11   iPhone  \n",
       "199              3373.482562             23            18   iPhone  \n",
       "266               996.394443             21            18  Android  \n",
       "283              2500.266993              3             2  Android  \n",
       "288              1383.325300             29            20  Android  \n",
       "301               922.109185             28            26   iPhone  \n",
       "309              2656.057900             30            28   iPhone  \n",
       "313               779.048037              5             5  Android  \n",
       "330              1213.968373              0             0   iPhone  \n",
       "333               788.480116             12            12   iPhone  \n",
       "446               474.623872             23            19  Android  \n",
       "454              4850.783454              5             5   iPhone  \n",
       "485                66.588493             15            11   iPhone  \n",
       "495              3699.588202              6             6  Android  \n",
       "574              3398.917717              2             0   iPhone  \n",
       "592              2669.316885             20            16   iPhone  \n",
       "658              1131.874772             27            24   iPhone  \n",
       "677              3154.184912              7             7   iPhone  \n",
       "690              1693.762940              5             5  Android  \n",
       "712               930.256388              9             6  Android  \n",
       "718               512.111006             19            17   iPhone  \n",
       "747              2137.981982             27            21   iPhone  \n",
       "753              1028.004191             16            16   iPhone  \n",
       "773              1192.007707              8             4  Android  "
      ]
     },
     "execution_count": 6,
     "metadata": {},
     "output_type": "execute_result"
    }
   ],
   "source": [
    "null_values.head(30)"
   ]
  },
  {
   "cell_type": "code",
   "execution_count": 7,
   "metadata": {
    "id": "W77hp8q3w-zi"
   },
   "outputs": [
    {
     "data": {
      "application/vnd.microsoft.datawrangler.viewer.v0+json": {
       "columns": [
        {
         "name": "index",
         "rawType": "object",
         "type": "string"
        },
        {
         "name": "ID",
         "rawType": "float64",
         "type": "float"
        },
        {
         "name": "sessions",
         "rawType": "float64",
         "type": "float"
        },
        {
         "name": "drives",
         "rawType": "float64",
         "type": "float"
        },
        {
         "name": "total_sessions",
         "rawType": "float64",
         "type": "float"
        },
        {
         "name": "n_days_after_onboarding",
         "rawType": "float64",
         "type": "float"
        },
        {
         "name": "total_navigations_fav1",
         "rawType": "float64",
         "type": "float"
        },
        {
         "name": "total_navigations_fav2",
         "rawType": "float64",
         "type": "float"
        },
        {
         "name": "driven_km_drives",
         "rawType": "float64",
         "type": "float"
        },
        {
         "name": "duration_minutes_drives",
         "rawType": "float64",
         "type": "float"
        },
        {
         "name": "activity_days",
         "rawType": "float64",
         "type": "float"
        },
        {
         "name": "driving_days",
         "rawType": "float64",
         "type": "float"
        }
       ],
       "conversionMethod": "pd.DataFrame",
       "ref": "b5fd3aa7-32cc-419d-be7f-d8a0e161f9c4",
       "rows": [
        [
         "count",
         "14299.0",
         "14299.0",
         "14299.0",
         "14299.0",
         "14299.0",
         "14299.0",
         "14299.0",
         "14299.0",
         "14299.0",
         "14299.0",
         "14299.0"
        ],
        [
         "mean",
         "7503.573117001189",
         "80.62381984754178",
         "67.25582208546052",
         "189.54740851694336",
         "1751.8225050702847",
         "121.74739492272187",
         "29.638296384362544",
         "4044.4015351564767",
         "1864.1997940746332",
         "15.544653472270788",
         "12.18253024687041"
        ],
        [
         "std",
         "4331.2076214798935",
         "80.73650152059042",
         "65.94729528075908",
         "136.18976433283123",
         "1008.6638338508488",
         "147.71342840233635",
         "45.350890443473546",
         "2504.977970380173",
         "1448.0050474767172",
         "9.016088256237003",
         "7.833835229688438"
        ],
        [
         "min",
         "0.0",
         "0.0",
         "0.0",
         "0.2202109438",
         "4.0",
         "0.0",
         "0.0",
         "60.44125046",
         "18.28208247",
         "0.0",
         "0.0"
        ],
        [
         "25%",
         "3749.5",
         "23.0",
         "20.0",
         "90.45773271",
         "878.5",
         "10.0",
         "0.0",
         "2217.3199095",
         "840.1813436",
         "8.0",
         "5.0"
        ],
        [
         "50%",
         "7504.0",
         "56.0",
         "48.0",
         "158.7185714",
         "1749.0",
         "71.0",
         "9.0",
         "3496.545617",
         "1479.394387",
         "16.0",
         "12.0"
        ],
        [
         "75%",
         "11257.5",
         "111.0",
         "93.0",
         "253.54044985000002",
         "2627.5",
         "178.0",
         "43.0",
         "5299.972162",
         "2466.928876",
         "23.0",
         "19.0"
        ],
        [
         "max",
         "14998.0",
         "743.0",
         "596.0",
         "1216.154633",
         "3500.0",
         "1236.0",
         "415.0",
         "21183.40189",
         "15851.72716",
         "31.0",
         "30.0"
        ]
       ],
       "shape": {
        "columns": 11,
        "rows": 8
       }
      },
      "text/html": [
       "<div>\n",
       "<style scoped>\n",
       "    .dataframe tbody tr th:only-of-type {\n",
       "        vertical-align: middle;\n",
       "    }\n",
       "\n",
       "    .dataframe tbody tr th {\n",
       "        vertical-align: top;\n",
       "    }\n",
       "\n",
       "    .dataframe thead th {\n",
       "        text-align: right;\n",
       "    }\n",
       "</style>\n",
       "<table border=\"1\" class=\"dataframe\">\n",
       "  <thead>\n",
       "    <tr style=\"text-align: right;\">\n",
       "      <th></th>\n",
       "      <th>ID</th>\n",
       "      <th>sessions</th>\n",
       "      <th>drives</th>\n",
       "      <th>total_sessions</th>\n",
       "      <th>n_days_after_onboarding</th>\n",
       "      <th>total_navigations_fav1</th>\n",
       "      <th>total_navigations_fav2</th>\n",
       "      <th>driven_km_drives</th>\n",
       "      <th>duration_minutes_drives</th>\n",
       "      <th>activity_days</th>\n",
       "      <th>driving_days</th>\n",
       "    </tr>\n",
       "  </thead>\n",
       "  <tbody>\n",
       "    <tr>\n",
       "      <th>count</th>\n",
       "      <td>14299.000000</td>\n",
       "      <td>14299.000000</td>\n",
       "      <td>14299.000000</td>\n",
       "      <td>14299.000000</td>\n",
       "      <td>14299.000000</td>\n",
       "      <td>14299.000000</td>\n",
       "      <td>14299.000000</td>\n",
       "      <td>14299.000000</td>\n",
       "      <td>14299.000000</td>\n",
       "      <td>14299.000000</td>\n",
       "      <td>14299.000000</td>\n",
       "    </tr>\n",
       "    <tr>\n",
       "      <th>mean</th>\n",
       "      <td>7503.573117</td>\n",
       "      <td>80.623820</td>\n",
       "      <td>67.255822</td>\n",
       "      <td>189.547409</td>\n",
       "      <td>1751.822505</td>\n",
       "      <td>121.747395</td>\n",
       "      <td>29.638296</td>\n",
       "      <td>4044.401535</td>\n",
       "      <td>1864.199794</td>\n",
       "      <td>15.544653</td>\n",
       "      <td>12.182530</td>\n",
       "    </tr>\n",
       "    <tr>\n",
       "      <th>std</th>\n",
       "      <td>4331.207621</td>\n",
       "      <td>80.736502</td>\n",
       "      <td>65.947295</td>\n",
       "      <td>136.189764</td>\n",
       "      <td>1008.663834</td>\n",
       "      <td>147.713428</td>\n",
       "      <td>45.350890</td>\n",
       "      <td>2504.977970</td>\n",
       "      <td>1448.005047</td>\n",
       "      <td>9.016088</td>\n",
       "      <td>7.833835</td>\n",
       "    </tr>\n",
       "    <tr>\n",
       "      <th>min</th>\n",
       "      <td>0.000000</td>\n",
       "      <td>0.000000</td>\n",
       "      <td>0.000000</td>\n",
       "      <td>0.220211</td>\n",
       "      <td>4.000000</td>\n",
       "      <td>0.000000</td>\n",
       "      <td>0.000000</td>\n",
       "      <td>60.441250</td>\n",
       "      <td>18.282082</td>\n",
       "      <td>0.000000</td>\n",
       "      <td>0.000000</td>\n",
       "    </tr>\n",
       "    <tr>\n",
       "      <th>25%</th>\n",
       "      <td>3749.500000</td>\n",
       "      <td>23.000000</td>\n",
       "      <td>20.000000</td>\n",
       "      <td>90.457733</td>\n",
       "      <td>878.500000</td>\n",
       "      <td>10.000000</td>\n",
       "      <td>0.000000</td>\n",
       "      <td>2217.319909</td>\n",
       "      <td>840.181344</td>\n",
       "      <td>8.000000</td>\n",
       "      <td>5.000000</td>\n",
       "    </tr>\n",
       "    <tr>\n",
       "      <th>50%</th>\n",
       "      <td>7504.000000</td>\n",
       "      <td>56.000000</td>\n",
       "      <td>48.000000</td>\n",
       "      <td>158.718571</td>\n",
       "      <td>1749.000000</td>\n",
       "      <td>71.000000</td>\n",
       "      <td>9.000000</td>\n",
       "      <td>3496.545617</td>\n",
       "      <td>1479.394387</td>\n",
       "      <td>16.000000</td>\n",
       "      <td>12.000000</td>\n",
       "    </tr>\n",
       "    <tr>\n",
       "      <th>75%</th>\n",
       "      <td>11257.500000</td>\n",
       "      <td>111.000000</td>\n",
       "      <td>93.000000</td>\n",
       "      <td>253.540450</td>\n",
       "      <td>2627.500000</td>\n",
       "      <td>178.000000</td>\n",
       "      <td>43.000000</td>\n",
       "      <td>5299.972162</td>\n",
       "      <td>2466.928876</td>\n",
       "      <td>23.000000</td>\n",
       "      <td>19.000000</td>\n",
       "    </tr>\n",
       "    <tr>\n",
       "      <th>max</th>\n",
       "      <td>14998.000000</td>\n",
       "      <td>743.000000</td>\n",
       "      <td>596.000000</td>\n",
       "      <td>1216.154633</td>\n",
       "      <td>3500.000000</td>\n",
       "      <td>1236.000000</td>\n",
       "      <td>415.000000</td>\n",
       "      <td>21183.401890</td>\n",
       "      <td>15851.727160</td>\n",
       "      <td>31.000000</td>\n",
       "      <td>30.000000</td>\n",
       "    </tr>\n",
       "  </tbody>\n",
       "</table>\n",
       "</div>"
      ],
      "text/plain": [
       "                 ID      sessions        drives  total_sessions  \\\n",
       "count  14299.000000  14299.000000  14299.000000    14299.000000   \n",
       "mean    7503.573117     80.623820     67.255822      189.547409   \n",
       "std     4331.207621     80.736502     65.947295      136.189764   \n",
       "min        0.000000      0.000000      0.000000        0.220211   \n",
       "25%     3749.500000     23.000000     20.000000       90.457733   \n",
       "50%     7504.000000     56.000000     48.000000      158.718571   \n",
       "75%    11257.500000    111.000000     93.000000      253.540450   \n",
       "max    14998.000000    743.000000    596.000000     1216.154633   \n",
       "\n",
       "       n_days_after_onboarding  total_navigations_fav1  \\\n",
       "count             14299.000000            14299.000000   \n",
       "mean               1751.822505              121.747395   \n",
       "std                1008.663834              147.713428   \n",
       "min                   4.000000                0.000000   \n",
       "25%                 878.500000               10.000000   \n",
       "50%                1749.000000               71.000000   \n",
       "75%                2627.500000              178.000000   \n",
       "max                3500.000000             1236.000000   \n",
       "\n",
       "       total_navigations_fav2  driven_km_drives  duration_minutes_drives  \\\n",
       "count            14299.000000      14299.000000             14299.000000   \n",
       "mean                29.638296       4044.401535              1864.199794   \n",
       "std                 45.350890       2504.977970              1448.005047   \n",
       "min                  0.000000         60.441250                18.282082   \n",
       "25%                  0.000000       2217.319909               840.181344   \n",
       "50%                  9.000000       3496.545617              1479.394387   \n",
       "75%                 43.000000       5299.972162              2466.928876   \n",
       "max                415.000000      21183.401890             15851.727160   \n",
       "\n",
       "       activity_days  driving_days  \n",
       "count   14299.000000  14299.000000  \n",
       "mean       15.544653     12.182530  \n",
       "std         9.016088      7.833835  \n",
       "min         0.000000      0.000000  \n",
       "25%         8.000000      5.000000  \n",
       "50%        16.000000     12.000000  \n",
       "75%        23.000000     19.000000  \n",
       "max        31.000000     30.000000  "
      ]
     },
     "execution_count": 7,
     "metadata": {},
     "output_type": "execute_result"
    }
   ],
   "source": [
    "# Isolate rows without null values\n",
    "mask_2 = (df['label'] == 'retained') | (df['label'] == 'churned')\n",
    "not_null_values = df[mask_2]\n",
    "\n",
    "# Display summary stats of rows without null values\n",
    "not_null_values.describe()"
   ]
  },
  {
   "cell_type": "markdown",
   "metadata": {
    "id": "sJpXfBZUlWC5"
   },
   "source": [
    "Looking at average values for variables in both populations, there is not significant difference. There are differences in minimum and maximum values for certain variable in both populations. But, considering the average values, which gives a better picture of the whole pupulation, there is no major difference between the two populations. \n"
   ]
  },
  {
   "cell_type": "markdown",
   "metadata": {
    "id": "S2CupDgSlpm4"
   },
   "source": [
    "### **Task 2d. Null values - device counts**\n",
    "\n",
    "Next, check the two populations with respect to the `device` variable.\n",
    "\n",
    "**Question:** How many iPhone users had null values and how many Android users had null values?"
   ]
  },
  {
   "cell_type": "code",
   "execution_count": 8,
   "metadata": {
    "id": "IbCnokO8lsq3"
   },
   "outputs": [
    {
     "data": {
      "text/plain": [
       "device\n",
       "iPhone     447\n",
       "Android    253\n",
       "Name: count, dtype: int64"
      ]
     },
     "execution_count": 8,
     "metadata": {},
     "output_type": "execute_result"
    }
   ],
   "source": [
    "# Get count of null values by device\n",
    "null_values['device'].value_counts()"
   ]
  },
  {
   "cell_type": "markdown",
   "metadata": {
    "id": "JKfLfQQUltQk"
   },
   "source": [
    "iPhone     447\n",
    "Android    253"
   ]
  },
  {
   "cell_type": "markdown",
   "metadata": {
    "id": "xodMNO1Ql5PZ"
   },
   "source": [
    "Now, of the rows with null values, calculate the percentage with each device&mdash;Android and iPhone. You can do this directly with the [`value_counts()`](https://pandas.pydata.org/docs/reference/api/pandas.Series.value_counts.html) function."
   ]
  },
  {
   "cell_type": "code",
   "execution_count": 9,
   "metadata": {
    "id": "ajlCljYHmCTa"
   },
   "outputs": [
    {
     "name": "stdout",
     "output_type": "stream",
     "text": [
      "63.857142857142854\n",
      "36.142857142857146\n"
     ]
    }
   ],
   "source": [
    "# Calculate % of iPhone nulls and Android nulls\n",
    "pct_null_iphone = ((null_values['device'].value_counts()['iPhone'])/len(null_values))*100\n",
    "pct_null_android = ((null_values['device'].value_counts()['Android'])/len(null_values))*100\n",
    "\n",
    "\n",
    "print(pct_null_iphone)\n",
    "print(pct_null_android)\n"
   ]
  },
  {
   "cell_type": "markdown",
   "metadata": {
    "id": "dA_ps_fA3xn9"
   },
   "source": [
    "How does this compare to the device ratio in the full dataset?"
   ]
  },
  {
   "cell_type": "code",
   "execution_count": 10,
   "metadata": {
    "id": "Dm-qKyQNmCsQ"
   },
   "outputs": [
    {
     "name": "stdout",
     "output_type": "stream",
     "text": [
      "64.48429895326355\n",
      "35.515701046736446\n"
     ]
    }
   ],
   "source": [
    "# Calculate % of iPhone users and Android users in full dataset\n",
    "pct_df_iphone = ((df['device'].value_counts()['iPhone'])/len(df))*100\n",
    "pct_df_android = ((df['device'].value_counts()['Android'])/len(df))*100\n",
    "\n",
    "print(pct_df_iphone)\n",
    "print(pct_df_android)\n"
   ]
  },
  {
   "cell_type": "markdown",
   "metadata": {
    "id": "eEIeGZdgmRh9"
   },
   "source": [
    "The percentage of missing values by each device is consistent with their representation in the data overall.\n",
    "\n",
    "There is nothing to suggest a non-random cause of the missing data."
   ]
  },
  {
   "cell_type": "markdown",
   "metadata": {
    "id": "uIzg4fXtmSTe"
   },
   "source": [
    "Examine the counts and percentages of users who churned vs. those who were retained. How many of each group are represented in the data?"
   ]
  },
  {
   "cell_type": "code",
   "execution_count": 11,
   "metadata": {
    "id": "zQ1mu8g9maYX"
   },
   "outputs": [
    {
     "name": "stdout",
     "output_type": "stream",
     "text": [
      "churned = \n",
      "2536\n",
      "retained = \n",
      "11763\n"
     ]
    }
   ],
   "source": [
    "# Calculate counts of churned vs. retained\n",
    "c_churned = df['label'].value_counts()['churned']\n",
    "c_retained = df['label'].value_counts()['retained']\n",
    "\n",
    "print('churned = ') \n",
    "print(c_churned)\n",
    "\n",
    "print('retained = ') \n",
    "print(c_retained)\n",
    "\n"
   ]
  },
  {
   "cell_type": "markdown",
   "metadata": {
    "id": "VYTZIIOKmfIz"
   },
   "source": [
    "This dataset contains 82% retained users and 18% churned users.\n",
    "\n",
    "Next, compare the medians of each variable for churned and retained users. The reason for calculating the median and not the mean is that you don't want outliers to unduly affect the portrayal of a typical user. Notice, for example, that the maximum value in the `driven_km_drives` column is 21,183 km. That's more than half the circumference of the earth!"
   ]
  },
  {
   "cell_type": "code",
   "execution_count": 12,
   "metadata": {
    "id": "jzngebHRmmFA"
   },
   "outputs": [
    {
     "name": "stdout",
     "output_type": "stream",
     "text": [
      "              ID  sessions  drives  total_sessions  n_days_after_onboarding  \\\n",
      "label                                                                         \n",
      "churned   7477.5      59.0    50.0      164.339042                   1321.0   \n",
      "retained  7509.0      56.0    47.0      157.586756                   1843.0   \n",
      "\n",
      "          total_navigations_fav1  total_navigations_fav2  driven_km_drives  \\\n",
      "label                                                                        \n",
      "churned                     84.5                    11.0       3652.655666   \n",
      "retained                    68.0                     9.0       3464.684614   \n",
      "\n",
      "          duration_minutes_drives  activity_days  driving_days  \n",
      "label                                                           \n",
      "churned               1607.183785            8.0           6.0  \n",
      "retained              1458.046141           17.0          14.0  \n"
     ]
    }
   ],
   "source": [
    "# Calculate median values of numeric columns for churned and retained users\n",
    "med_label = not_null_values.groupby(by='label').median(numeric_only=True)\n",
    "\n",
    "print(med_label)\n"
   ]
  },
  {
   "cell_type": "markdown",
   "metadata": {
    "id": "NvnPFKS3mm71"
   },
   "source": [
    "This offers an interesting snapshot of the two groups, churned vs. retained:\n",
    "\n",
    "Users who churned averaged ~3 more drives in the last month than retained users, but retained users used the app on over twice as many days as churned users in the same time period.\n",
    "\n",
    "The median churned user drove ~200 more kilometers and 2.5 more hours during the last month than the median retained user.\n",
    "\n",
    "It seems that churned users had more drives in fewer days, and their trips were farther and longer in duration. Perhaps this is suggestive of a user profile. Continue exploring!"
   ]
  },
  {
   "cell_type": "markdown",
   "metadata": {
    "id": "cUAkU-JInALK"
   },
   "source": [
    "Calculate the median kilometers per drive in the last month for both retained and churned users.\n",
    "\n",
    "Begin by dividing the `driven_km_drives` column by the `drives` column. Then, group the results by churned/retained and calculate the median km/drive of each group."
   ]
  },
  {
   "cell_type": "code",
   "execution_count": 13,
   "metadata": {
    "id": "TVcP2PPhnBMZ"
   },
   "outputs": [
    {
     "data": {
      "application/vnd.microsoft.datawrangler.viewer.v0+json": {
       "columns": [
        {
         "name": "label",
         "rawType": "object",
         "type": "string"
        },
        {
         "name": "km_per_drive",
         "rawType": "float64",
         "type": "float"
        }
       ],
       "conversionMethod": "pd.DataFrame",
       "ref": "170606b0-a0b0-47c0-8e87-d96bfcb83d3e",
       "rows": [
        [
         "churned",
         "74.10941594650902"
        ],
        [
         "retained",
         "75.01470167692307"
        ]
       ],
       "shape": {
        "columns": 1,
        "rows": 2
       }
      },
      "text/html": [
       "<div>\n",
       "<style scoped>\n",
       "    .dataframe tbody tr th:only-of-type {\n",
       "        vertical-align: middle;\n",
       "    }\n",
       "\n",
       "    .dataframe tbody tr th {\n",
       "        vertical-align: top;\n",
       "    }\n",
       "\n",
       "    .dataframe thead th {\n",
       "        text-align: right;\n",
       "    }\n",
       "</style>\n",
       "<table border=\"1\" class=\"dataframe\">\n",
       "  <thead>\n",
       "    <tr style=\"text-align: right;\">\n",
       "      <th></th>\n",
       "      <th>km_per_drive</th>\n",
       "    </tr>\n",
       "    <tr>\n",
       "      <th>label</th>\n",
       "      <th></th>\n",
       "    </tr>\n",
       "  </thead>\n",
       "  <tbody>\n",
       "    <tr>\n",
       "      <th>churned</th>\n",
       "      <td>74.109416</td>\n",
       "    </tr>\n",
       "    <tr>\n",
       "      <th>retained</th>\n",
       "      <td>75.014702</td>\n",
       "    </tr>\n",
       "  </tbody>\n",
       "</table>\n",
       "</div>"
      ],
      "text/plain": [
       "          km_per_drive\n",
       "label                 \n",
       "churned      74.109416\n",
       "retained     75.014702"
      ]
     },
     "execution_count": 13,
     "metadata": {},
     "output_type": "execute_result"
    }
   ],
   "source": [
    "# Add a column to df called `km_per_drive`\n",
    "df['km_per_drive'] = df['driven_km_drives']/df['drives']\n",
    "\n",
    "# Group by `label`, calculate the median (numeric_only=True), and isolate for km per drive\n",
    "median_km_per_drive = df.groupby(by='label').median(numeric_only=True)[['km_per_drive']]\n",
    "\n",
    "median_km_per_drive.head()"
   ]
  },
  {
   "cell_type": "markdown",
   "metadata": {
    "id": "C6VicaRVnFzq"
   },
   "source": [
    "The median retained user drove about one more kilometer per drive than the median churned user. How many kilometers per driving day was this?\n",
    "\n",
    "To calculate this statistic, repeat the steps above using `driving_days` instead of `drives`."
   ]
  },
  {
   "cell_type": "code",
   "execution_count": 14,
   "metadata": {
    "id": "I6lD33kfnGQb"
   },
   "outputs": [
    {
     "data": {
      "application/vnd.microsoft.datawrangler.viewer.v0+json": {
       "columns": [
        {
         "name": "label",
         "rawType": "object",
         "type": "string"
        },
        {
         "name": "km_per_driving_day",
         "rawType": "float64",
         "type": "float"
        }
       ],
       "conversionMethod": "pd.DataFrame",
       "ref": "7d114393-db8d-4267-a7d9-88cfb1ba530b",
       "rows": [
        [
         "churned",
         "697.541999"
        ],
        [
         "retained",
         "289.5493333809524"
        ]
       ],
       "shape": {
        "columns": 1,
        "rows": 2
       }
      },
      "text/html": [
       "<div>\n",
       "<style scoped>\n",
       "    .dataframe tbody tr th:only-of-type {\n",
       "        vertical-align: middle;\n",
       "    }\n",
       "\n",
       "    .dataframe tbody tr th {\n",
       "        vertical-align: top;\n",
       "    }\n",
       "\n",
       "    .dataframe thead th {\n",
       "        text-align: right;\n",
       "    }\n",
       "</style>\n",
       "<table border=\"1\" class=\"dataframe\">\n",
       "  <thead>\n",
       "    <tr style=\"text-align: right;\">\n",
       "      <th></th>\n",
       "      <th>km_per_driving_day</th>\n",
       "    </tr>\n",
       "    <tr>\n",
       "      <th>label</th>\n",
       "      <th></th>\n",
       "    </tr>\n",
       "  </thead>\n",
       "  <tbody>\n",
       "    <tr>\n",
       "      <th>churned</th>\n",
       "      <td>697.541999</td>\n",
       "    </tr>\n",
       "    <tr>\n",
       "      <th>retained</th>\n",
       "      <td>289.549333</td>\n",
       "    </tr>\n",
       "  </tbody>\n",
       "</table>\n",
       "</div>"
      ],
      "text/plain": [
       "          km_per_driving_day\n",
       "label                       \n",
       "churned           697.541999\n",
       "retained          289.549333"
      ]
     },
     "execution_count": 14,
     "metadata": {},
     "output_type": "execute_result"
    }
   ],
   "source": [
    "# Add a column to df called `km_per_driving_day`\n",
    "df['km_per_driving_day'] = df['driven_km_drives']/df['driving_days']\n",
    "\n",
    "# Group by `label`, calculate the median (numeric_only=True), and isolate for km per driving day\n",
    "median_km_per_drive_days = df.groupby(by='label').median(numeric_only=True)[['km_per_driving_day']]\n",
    "                                        \n",
    "median_km_per_drive_days.head()"
   ]
  },
  {
   "cell_type": "markdown",
   "metadata": {
    "id": "kIfSmukAnVSs"
   },
   "source": [
    "Now, calculate the median number of drives per driving day for each group."
   ]
  },
  {
   "cell_type": "code",
   "execution_count": 15,
   "metadata": {
    "id": "VAHqOO8endWX"
   },
   "outputs": [
    {
     "data": {
      "application/vnd.microsoft.datawrangler.viewer.v0+json": {
       "columns": [
        {
         "name": "label",
         "rawType": "object",
         "type": "string"
        },
        {
         "name": "drives_per_driving_day",
         "rawType": "float64",
         "type": "float"
        }
       ],
       "conversionMethod": "pd.DataFrame",
       "ref": "1ecf80bb-d517-4503-b3fa-561301ce6444",
       "rows": [
        [
         "churned",
         "10.0"
        ],
        [
         "retained",
         "4.0625"
        ]
       ],
       "shape": {
        "columns": 1,
        "rows": 2
       }
      },
      "text/html": [
       "<div>\n",
       "<style scoped>\n",
       "    .dataframe tbody tr th:only-of-type {\n",
       "        vertical-align: middle;\n",
       "    }\n",
       "\n",
       "    .dataframe tbody tr th {\n",
       "        vertical-align: top;\n",
       "    }\n",
       "\n",
       "    .dataframe thead th {\n",
       "        text-align: right;\n",
       "    }\n",
       "</style>\n",
       "<table border=\"1\" class=\"dataframe\">\n",
       "  <thead>\n",
       "    <tr style=\"text-align: right;\">\n",
       "      <th></th>\n",
       "      <th>drives_per_driving_day</th>\n",
       "    </tr>\n",
       "    <tr>\n",
       "      <th>label</th>\n",
       "      <th></th>\n",
       "    </tr>\n",
       "  </thead>\n",
       "  <tbody>\n",
       "    <tr>\n",
       "      <th>churned</th>\n",
       "      <td>10.0000</td>\n",
       "    </tr>\n",
       "    <tr>\n",
       "      <th>retained</th>\n",
       "      <td>4.0625</td>\n",
       "    </tr>\n",
       "  </tbody>\n",
       "</table>\n",
       "</div>"
      ],
      "text/plain": [
       "          drives_per_driving_day\n",
       "label                           \n",
       "churned                  10.0000\n",
       "retained                  4.0625"
      ]
     },
     "execution_count": 15,
     "metadata": {},
     "output_type": "execute_result"
    }
   ],
   "source": [
    "# Add a column to df called `drives_per_driving_day`\n",
    "df['drives_per_driving_day'] = df['drives']/df['driving_days']\n",
    "\n",
    "# Group by `label`, calculate the median (numeric_only=True), and isolate for drives per driving day\n",
    "median_drives_per_driving_day = df.groupby(by='label').median(numeric_only=True)[['drives_per_driving_day']]\n",
    "\n",
    "median_drives_per_driving_day.head()"
   ]
  },
  {
   "cell_type": "markdown",
   "metadata": {
    "id": "LVRAwsb1nv2L"
   },
   "source": [
    "The median user who churned drove 698 kilometers each day they drove last month, which is almost ~240% the per-drive-day distance of retained users. The median churned user had a similarly disproporionate number of drives per drive day compared to retained users.\n",
    "\n",
    "It is clear from these figures that, regardless of whether a user churned or not, the users represented in this data are serious drivers! It would probably be safe to assume that this data does not represent typical drivers at large. Perhaps the data&mdash;and in particular the sample of churned users&mdash;contains a high proportion of long-haul truckers.\n",
    "\n",
    "In consideration of how much these users drive, it would be worthwhile to recommend to Waze that they gather more data on these super-drivers. It's possible that the reason for their driving so much is also the reason why the Waze app does not meet their specific set of needs, which may differ from the needs of a more typical driver, such as a commuter."
   ]
  },
  {
   "cell_type": "markdown",
   "metadata": {
    "id": "xc7Q6elLoD1R"
   },
   "source": [
    "Finally, examine whether there is an imbalance in how many users churned by device type.\n",
    "\n",
    "Begin by getting the overall counts of each device type for each group, churned and retained."
   ]
  },
  {
   "cell_type": "code",
   "execution_count": 16,
   "metadata": {
    "id": "LGkODIILoEp-",
    "scrolled": false
   },
   "outputs": [
    {
     "data": {
      "text/plain": [
       "label     device \n",
       "churned   iPhone     1645\n",
       "          Android     891\n",
       "retained  iPhone     7580\n",
       "          Android    4183\n",
       "Name: count, dtype: int64"
      ]
     },
     "execution_count": 16,
     "metadata": {},
     "output_type": "execute_result"
    }
   ],
   "source": [
    "# For each label, calculate the number of Android users and iPhone users\n",
    "device_by_label = not_null_values.groupby(by='label')\n",
    "\n",
    "device_by_label['device'].value_counts()\n"
   ]
  },
  {
   "cell_type": "markdown",
   "metadata": {
    "id": "yTVM6qFkoJs4"
   },
   "source": [
    "Now, within each group, churned and retained, calculate what percent was Android and what percent was iPhone."
   ]
  },
  {
   "cell_type": "code",
   "execution_count": 17,
   "metadata": {
    "id": "rx0ElsS6oO7y"
   },
   "outputs": [
    {
     "name": "stdout",
     "output_type": "stream",
     "text": [
      "64.86593059936908\n",
      "35.13406940063091\n",
      "64.4393437048372\n",
      "35.5606562951628\n"
     ]
    }
   ],
   "source": [
    "# For each label, calculate the percentage of Android users and iPhone users\n",
    "\n",
    "a = not_null_values[(not_null_values['label'] == 'churned') & (not_null_values['device'] == 'iPhone')]\n",
    "\n",
    "b = not_null_values[(not_null_values['label'] == 'churned') & (not_null_values['device'] == 'Android')]\n",
    "\n",
    "c = not_null_values[(not_null_values['label'] == 'retained') & (not_null_values['device'] == 'iPhone')]\n",
    "\n",
    "d = not_null_values[(not_null_values['label'] == 'retained') & (not_null_values['device'] == 'Android')]\n",
    "\n",
    "\n",
    "c_churned = not_null_values['label'].value_counts()['churned']\n",
    "c_retained = not_null_values['label'].value_counts()['retained']\n",
    "\n",
    "churn_iphone = ((len(a))/(c_churned))*100\n",
    "churn_android = ((len(b))/(c_churned))*100\n",
    "retained_iphone = ((len(c))/(c_retained))*100\n",
    "retained_android = ((len(d))/(c_retained))*100\n",
    "\n",
    "print(churn_iphone)\n",
    "print(churn_android)\n",
    "print(retained_iphone)\n",
    "print(retained_android)\n"
   ]
  },
  {
   "cell_type": "code",
   "execution_count": 18,
   "metadata": {},
   "outputs": [
    {
     "name": "stdout",
     "output_type": "stream",
     "text": [
      "17.831978319783197 17.560110366574694\n"
     ]
    }
   ],
   "source": [
    "# Answer to question 6\n",
    "\n",
    "x = ((len(a))/((len(a)+len(c))))*100\n",
    "\n",
    "y = ((len(b))/((len(b)+len(d))))*100\n",
    "\n",
    "print (x,y)"
   ]
  },
  {
   "cell_type": "markdown",
   "metadata": {
    "id": "DQVIMPzroavO"
   },
   "source": [
    "The ratio of iPhone users and Android users is consistent between the churned group and the retained group, and those ratios are both consistent with the ratio found in the overall dataset."
   ]
  },
  {
   "cell_type": "markdown",
   "metadata": {
    "id": "tF_82VLgzrQm"
   },
   "source": [
    "<img src=\"images/Construct.png\" width=\"100\" height=\"100\" align=left>\n",
    "\n",
    "## **PACE: Construct**\n",
    "\n",
    "**Note**: The Construct stage does not apply to this workflow. The PACE framework can be adapted to fit the specific requirements of any project.\n",
    "\n"
   ]
  },
  {
   "cell_type": "markdown",
   "metadata": {
    "id": "BMHV86A6zrQo"
   },
   "source": [
    "<img src=\"images/Execute.png\" width=\"100\" height=\"100\" align=left>\n",
    "\n",
    "## **PACE: Execute**\n",
    "\n",
    "Consider the questions in your PACE Strategy Document and those below to craft your response:"
   ]
  },
  {
   "cell_type": "markdown",
   "metadata": {
    "id": "u3HxcMZgz6iW"
   },
   "source": [
    "### **Task 3. Conclusion**\n",
    "\n",
    "Recall that your supervisor, May Santer, asked you to share your findings with the data team in an executive summary. Consider the following questions as you prepare to write your summary. Think about key points you may want to share with the team, and what information is most relevant to the user churn project.\n",
    "\n",
    "**Questions:**\n",
    "\n",
    "1. Did the data contain any missing values? How many, and which variables were affected? Was there a pattern to the missing data?\n",
    "\n",
    "2. What is a benefit of using the median value of a sample instead of the mean?\n",
    "\n",
    "3. Did your investigation give rise to further questions that you would like to explore or ask the Waze team about?\n",
    "\n",
    "4. What percentage of the users in the dataset were Android users and what percentage were iPhone users?\n",
    "\n",
    "5. What were some distinguishing characteristics of users who churned vs. users who were retained?\n",
    "\n",
    "6. Was there an appreciable difference in churn rate between iPhone users vs. Android users?\n",
    "\n",
    "\n",
    "\n"
   ]
  },
  {
   "cell_type": "markdown",
   "metadata": {
    "id": "iMHlK7k5_2PV"
   },
   "source": [
    "1. There were a total of 700 rows that contained missing values for the ‘label’ variable. There was no major difference between the rows that had missing values in comparison to the rows that did not.\n",
    "\n",
    "2. The reason for calculating the median and not the mean is that you don't want outliers to unduly affect the portrayal of a typical user.\n",
    "\n",
    "3. Collect more data on churned users as they appear to be long-haul truck drivers whose needs are not satisfied by the Waze app.\n",
    "\n",
    "4. 64.5% of all users had iPhones, 35.5% of all users had Android devices\n",
    "\n",
    "5. There were 4.6 times more retained users than churned users, retained users used the app on over twice as many days as churned users in the same time period, the median churned user drove ~200 more kilometers and 2.5 more hours during the last month than the median retained user, churned users had more drives in fewer days, and their trips were farther and longer in duration\n",
    "\n",
    "6. Out of all churned users, 64.95 were iPhone users and 35.1% were Android users. \n"
   ]
  },
  {
   "cell_type": "markdown",
   "metadata": {},
   "source": [
    "**Congratulations!** You've completed this lab. However, you may not notice a green check mark next to this item on Coursera's platform. Please continue your progress regardless of the check mark. Just click on the \"save\" icon at the top of this notebook to ensure your work has been logged."
   ]
  }
 ],
 "metadata": {
  "colab": {
   "provenance": [
    {
     "file_id": "11e8ZirEhEEhZj7pNZmB8r_dPDEwRnfPR",
     "timestamp": 1671051831339
    },
    {
     "file_id": "1SoZM3Yq8C8BdYu-st3_BAlhze2_Z6Ilb",
     "timestamp": 1668798742100
    },
    {
     "file_id": "1U6q6WFOo7_Ka_C9cdq49KwAsI_lFX86-",
     "timestamp": 1668698832849
    },
    {
     "file_id": "1h6rKqbyzegmvnh5T6X1MhTFOXE6VUciq",
     "timestamp": 1666209449412
    },
    {
     "file_id": "1Vz66UR_ImIhJ4HEkCzdY_9E9QLKiboV1",
     "timestamp": 1663780048645
    }
   ],
   "toc_visible": true
  },
  "kernelspec": {
   "display_name": "Python 3",
   "language": "python",
   "name": "python3"
  },
  "language_info": {
   "codemirror_mode": {
    "name": "ipython",
    "version": 3
   },
   "file_extension": ".py",
   "mimetype": "text/x-python",
   "name": "python",
   "nbconvert_exporter": "python",
   "pygments_lexer": "ipython3",
   "version": "3.13.3"
  }
 },
 "nbformat": 4,
 "nbformat_minor": 1
}
